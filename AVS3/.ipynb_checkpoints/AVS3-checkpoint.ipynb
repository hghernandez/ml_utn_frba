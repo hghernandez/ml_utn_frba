{
 "cells": [
  {
   "cell_type": "markdown",
   "metadata": {},
   "source": [
    "Analisis de la carrera en el Barça de Messi\n",
    "=="
   ]
  },
  {
   "cell_type": "markdown",
   "metadata": {},
   "source": [
    "Ante la duda sobre que significan alguno de estos items, podemos visitar la [explicacion de las columnas](https://www.kaggle.com/abhijithchandradas/lionel-messi-at-f-c-barcelona/version/1)."
   ]
  },
  {
   "cell_type": "markdown",
   "metadata": {},
   "source": [
    "<img src=\"https://as01.epimg.net/futbol/imagenes/2021/03/21/primera/1616352554_970003_1616352733_noticia_normal_recorte1.jpg\" />"
   ]
  },
  {
   "cell_type": "markdown",
   "metadata": {},
   "source": [
    "Si hay algo raro que nos toco ver ultimamente, es verlo a Messi con una camiseta distinta a la del Barça. Como bien lo dijo el idolo:\n",
    "\n",
    "_\"El Barça es mi vida. Amo al Barça y a Barcelona. Siempre lo he dado todo por este Club\"_\n",
    "\n",
    "En honor a la carrera del idolo argentino en el club catalan, analisemos su paso por el Barça en numeros."
   ]
  },
  {
   "cell_type": "markdown",
   "metadata": {},
   "source": [
    "## Importar los datos"
   ]
  },
  {
   "cell_type": "code",
   "execution_count": null,
   "metadata": {},
   "outputs": [],
   "source": [
    "import pandas as pd\n",
    "import numpy as np\n",
    "import matplotlib.pyplot as plt"
   ]
  },
  {
   "cell_type": "code",
   "execution_count": null,
   "metadata": {},
   "outputs": [],
   "source": [
    "messi_csv = pd.read_csv('messi_barca.csv', encoding = \"ISO-8859-1\", delimiter=',')  \n",
    "messi_csv"
   ]
  },
  {
   "cell_type": "code",
   "execution_count": null,
   "metadata": {},
   "outputs": [],
   "source": [
    "messi_csv.info()"
   ]
  },
  {
   "cell_type": "code",
   "execution_count": null,
   "metadata": {},
   "outputs": [],
   "source": [
    "messi_csv.keys()"
   ]
  },
  {
   "cell_type": "markdown",
   "metadata": {},
   "source": [
    "Importamos algunas librerias"
   ]
  },
  {
   "cell_type": "code",
   "execution_count": null,
   "metadata": {},
   "outputs": [],
   "source": [
    "import graphviz\n",
    "import numpy as np\n",
    "from sklearn.neighbors import KNeighborsClassifier\n",
    "from sklearn.tree import DecisionTreeClassifier\n",
    "from sklearn.tree import export_graphviz\n",
    "from sklearn.tree import plot_tree\n",
    "from sklearn.metrics import confusion_matrix\n",
    "from sklearn.metrics import ConfusionMatrixDisplay\n",
    "from sklearn.model_selection import train_test_split"
   ]
  },
  {
   "cell_type": "markdown",
   "metadata": {},
   "source": [
    "# Datos"
   ]
  },
  {
   "cell_type": "code",
   "execution_count": null,
   "metadata": {},
   "outputs": [],
   "source": [
    "competiciones = messi_csv['Competition']\n",
    "comp = []\n",
    "for c in competiciones:\n",
    "    if c == 'Champions League':\n",
    "        comp.append(0)\n",
    "    if c == 'La Liga':\n",
    "        comp.append(1)\n",
    "    if c == 'Copa del Rey':\n",
    "        comp.append(2)\n",
    "    if c == 'Supercopa de España':\n",
    "        comp.append(3)\n",
    "        \n",
    "Y = np.array(comp)\n",
    "X = np.array(messi_csv[['Matches Played', 'Goals scored']])"
   ]
  },
  {
   "cell_type": "code",
   "execution_count": null,
   "metadata": {},
   "outputs": [],
   "source": [
    "plt.figure(figsize=(8,8))\n",
    "plt.scatter(X[:,0], X[:,1])\n",
    "plt.xlabel('Matches Played')\n",
    "plt.ylabel('Goals scored')\n",
    "plt.show()"
   ]
  },
  {
   "cell_type": "code",
   "execution_count": null,
   "metadata": {},
   "outputs": [],
   "source": [
    "X.shape"
   ]
  },
  {
   "cell_type": "code",
   "execution_count": null,
   "metadata": {},
   "outputs": [],
   "source": [
    "Y.shape"
   ]
  },
  {
   "cell_type": "code",
   "execution_count": null,
   "metadata": {},
   "outputs": [],
   "source": [
    "cdict = {0: 'red', 1: 'green', 2: 'blue', 3: 'yellow'}\n",
    "catdict= {0:'Champions League', 1: 'La Liga', 2:'Copa del Rey', 3:'Supercopa de España'}\n",
    "\n",
    "figure, ax = plt.subplots(figsize=(8,8))\n",
    "\n",
    "labels = Y\n",
    "for g in np.unique(labels):\n",
    "    ix = np.where(g == labels)\n",
    "    ax.scatter(X[ix,0], X[ix,1], c = cdict[g], label = catdict[g], s = 45,edgecolor='k')\n",
    "\n",
    "plt.xlabel('Matches Played')\n",
    "plt.ylabel('Goals scored')\n",
    "ax.legend()\n",
    "plt.show()"
   ]
  },
  {
   "cell_type": "code",
   "execution_count": null,
   "metadata": {},
   "outputs": [],
   "source": [
    "x_train, x_test, y_train, y_test = train_test_split(X, Y, test_size=0.2, random_state=12, shuffle=True)"
   ]
  },
  {
   "cell_type": "markdown",
   "metadata": {},
   "source": [
    "# KNN"
   ]
  },
  {
   "cell_type": "code",
   "execution_count": null,
   "metadata": {},
   "outputs": [],
   "source": [
    "knn = KNeighborsClassifier(5)"
   ]
  },
  {
   "cell_type": "code",
   "execution_count": null,
   "metadata": {},
   "outputs": [],
   "source": [
    "knn.fit(x_train, y_train)"
   ]
  },
  {
   "cell_type": "code",
   "execution_count": null,
   "metadata": {},
   "outputs": [],
   "source": [
    "y_pred = knn.predict(x_test)"
   ]
  },
  {
   "cell_type": "code",
   "execution_count": null,
   "metadata": {},
   "outputs": [],
   "source": [
    "# Plot the decision boundary. For that, we will assign a color to each\n",
    "# point in the mesh [x_min, x_max]x[y_min, y_max].\n",
    "x_min, x_max = X[:, 0].min() - 0.5,  X[:, 0].max() + 0.5\n",
    "y_min, y_max =  X[:, 1].min() - 0.5,  X[:, 1].max() + 0.5\n",
    "h = 0.1  # step size in the mesh\n",
    "xx, yy = np.meshgrid(np.arange(x_min, x_max, h), np.arange(y_min, y_max, h))\n",
    "Z = knn.predict(np.c_[xx.ravel(), yy.ravel()])\n",
    "\n",
    "# Put the result into a color plot\n",
    "Z = Z.reshape(xx.shape)\n",
    "plt.figure()\n",
    "plt.pcolormesh(xx, yy, Z, cmap = \"cool\", shading ='auto')\n",
    "\n",
    "# Plot also the training points\n",
    "plt.scatter(x_train[:, 0], x_train[:, 1], c=y_train, edgecolors=\"k\", cmap=\"jet\",label='Training Points')\n",
    "# Plot also the testing points\n",
    "plt.scatter(x_test[:, 0], x_test[:, 1], c=y_pred, edgecolors=\"k\", cmap=\"jet\",marker=\"^\",label='Test Points')\n",
    "plt.legend(loc=\"upper left\")\n",
    "plt.xlabel(\"Matches played\")\n",
    "plt.ylabel(\"Goals Scored\")\n",
    "\n",
    "plt.show()"
   ]
  },
  {
   "cell_type": "code",
   "execution_count": null,
   "metadata": {},
   "outputs": [],
   "source": [
    "cm = confusion_matrix(y_test, y_pred)"
   ]
  },
  {
   "cell_type": "code",
   "execution_count": null,
   "metadata": {},
   "outputs": [],
   "source": [
    "cm_display = ConfusionMatrixDisplay(cm).plot()"
   ]
  },
  {
   "cell_type": "code",
   "execution_count": null,
   "metadata": {},
   "outputs": [],
   "source": [
    "y_pred_train = knn.predict(x_train)"
   ]
  },
  {
   "cell_type": "code",
   "execution_count": null,
   "metadata": {},
   "outputs": [],
   "source": [
    "cm_train = confusion_matrix(y_train, y_pred_train)"
   ]
  },
  {
   "cell_type": "code",
   "execution_count": null,
   "metadata": {},
   "outputs": [],
   "source": [
    "cm_display = ConfusionMatrixDisplay(cm_train).plot()"
   ]
  },
  {
   "cell_type": "markdown",
   "metadata": {},
   "source": [
    "# Arboles de decision"
   ]
  },
  {
   "cell_type": "code",
   "execution_count": null,
   "metadata": {},
   "outputs": [],
   "source": [
    "np.random.seed(123)\n",
    "\n",
    "arbol = DecisionTreeClassifier(max_depth = 5)"
   ]
  },
  {
   "cell_type": "code",
   "execution_count": null,
   "metadata": {},
   "outputs": [],
   "source": [
    "arbol.fit(x_train, y_train)"
   ]
  },
  {
   "cell_type": "code",
   "execution_count": null,
   "metadata": {},
   "outputs": [],
   "source": [
    "y_pred = arbol.predict(x_test)\n",
    "\n",
    "#Obtengo las metricas de error\n",
    "\n",
    "print(\"El accuracy obtenido sin preprocesamiento es: \",arbol.score(x_test,y_test))"
   ]
  },
  {
   "cell_type": "code",
   "execution_count": null,
   "metadata": {},
   "outputs": [],
   "source": [
    "# Plot the decision boundary. For that, we will assign a color to each\n",
    "# point in the mesh [x_min, x_max]x[y_min, y_max].\n",
    "x_min, x_max = X[:, 0].min() - 0.5,  X[:, 0].max() + 0.5\n",
    "y_min, y_max =  X[:, 1].min() - 0.5,  X[:, 1].max() + 0.5\n",
    "h = 0.1  # step size in the mesh\n",
    "xx, yy = np.meshgrid(np.arange(x_min, x_max, h), np.arange(y_min, y_max, h))\n",
    "Z = arbol.predict(np.c_[xx.ravel(), yy.ravel()])\n",
    "\n",
    "# Put the result into a color plot\n",
    "Z = Z.reshape(xx.shape)\n",
    "plt.figure()\n",
    "plt.pcolormesh(xx, yy, Z, cmap = \"cool\", shading ='auto')\n",
    "\n",
    "# Plot also the training points\n",
    "plt.scatter(x_train[:, 0], x_train[:, 1], c=y_train, edgecolors=\"k\", cmap=\"jet\",label='Training Points')\n",
    "# Plot also the testing points\n",
    "plt.scatter(x_test[:, 0], x_test[:, 1], c=y_pred, edgecolors=\"k\", cmap=\"jet\",marker=\"^\",label='Test Points')\n",
    "plt.legend(loc=\"upper left\")\n",
    "plt.xlabel(\"Matches played\")\n",
    "plt.ylabel(\"Goals Scored\")\n",
    "\n",
    "plt.show()"
   ]
  },
  {
   "cell_type": "code",
   "execution_count": null,
   "metadata": {},
   "outputs": [],
   "source": [
    "features_names = ['Matches Played', 'Goals scored']\n",
    "y_names = ['Champions League', 'La Liga','Copa del Rey','Supercopa de España']"
   ]
  },
  {
   "cell_type": "code",
   "execution_count": null,
   "metadata": {},
   "outputs": [],
   "source": [
    "export_graphviz(arbol, out_file='arbol1.dot', class_names=y_names, feature_names=features_names, impurity=False, filled=True)\n",
    "with open('arbol1.dot') as f:\n",
    "    dot_graph=f.read()\n",
    "graphviz.Source(dot_graph)"
   ]
  },
  {
   "cell_type": "code",
   "execution_count": null,
   "metadata": {},
   "outputs": [],
   "source": [
    "cm = confusion_matrix(y_test, y_pred)"
   ]
  },
  {
   "cell_type": "code",
   "execution_count": null,
   "metadata": {},
   "outputs": [],
   "source": [
    "cm_display = ConfusionMatrixDisplay(cm).plot()"
   ]
  },
  {
   "cell_type": "markdown",
   "metadata": {},
   "source": [
    "# Escalado & normalizado"
   ]
  },
  {
   "cell_type": "code",
   "execution_count": null,
   "metadata": {},
   "outputs": [],
   "source": [
    "X = np.array(messi_csv[['Goals scored', 'Minutes played']])"
   ]
  },
  {
   "cell_type": "code",
   "execution_count": null,
   "metadata": {},
   "outputs": [],
   "source": [
    "plt.figure(figsize=(8,8))\n",
    "plt.scatter(X[:,0], X[:,1])\n",
    "plt.ylabel('Minutes Played')\n",
    "plt.xlabel('Goals scored')\n",
    "plt.show()"
   ]
  },
  {
   "cell_type": "code",
   "execution_count": null,
   "metadata": {},
   "outputs": [],
   "source": [
    "x_train, x_test, y_train, y_test = train_test_split(X, Y, test_size=0.2, random_state=12, shuffle=True)"
   ]
  },
  {
   "cell_type": "code",
   "execution_count": null,
   "metadata": {},
   "outputs": [],
   "source": [
    "knn = KNeighborsClassifier(5)"
   ]
  },
  {
   "cell_type": "code",
   "execution_count": null,
   "metadata": {},
   "outputs": [],
   "source": [
    "knn.fit(x_train, y_train)"
   ]
  },
  {
   "cell_type": "code",
   "execution_count": null,
   "metadata": {},
   "outputs": [],
   "source": [
    "y_pred = knn.predict(x_test)\n",
    "\n",
    "#Obtenemos el accuracy\n",
    "\n",
    "print(\"El accuracy obtenido sin escalar es:\", round(knn.score(x_test, y_test),1))"
   ]
  },
  {
   "cell_type": "code",
   "execution_count": null,
   "metadata": {},
   "outputs": [],
   "source": [
    "# Plot the decision boundary. For that, we will assign a color to each\n",
    "# point in the mesh [x_min, x_max]x[y_min, y_max].\n",
    "x_min, x_max = X[:, 0].min() - 0.5,  X[:, 0].max() + 0.5\n",
    "y_min, y_max =  X[:, 1].min() - 0.5,  X[:, 1].max() + 0.5\n",
    "h = 1.0  # step size in the mesh\n",
    "xx, yy = np.meshgrid(np.arange(x_min, x_max, h), np.arange(y_min, y_max, h))\n",
    "Z = knn.predict(np.c_[xx.ravel(), yy.ravel()])\n",
    "\n",
    "# Put the result into a color plot\n",
    "Z = Z.reshape(xx.shape)\n",
    "plt.figure()\n",
    "plt.pcolormesh(xx, yy, Z, cmap = \"cool\", shading ='auto')\n",
    "\n",
    "# Plot also the training points\n",
    "plt.scatter(x_train[:, 0], x_train[:, 1], c=y_train, edgecolors=\"k\", cmap=\"jet\",label='Training Points')\n",
    "# Plot also the testing points\n",
    "plt.scatter(x_test[:, 0], x_test[:, 1], c=y_pred, edgecolors=\"k\", cmap=\"jet\",marker=\"^\",label='Test Points')\n",
    "plt.legend(loc=\"upper left\")\n",
    "plt.xlabel(\"Minutes Played\")\n",
    "plt.ylabel(\"Goals Scored\")\n",
    "\n",
    "plt.show()"
   ]
  },
  {
   "cell_type": "code",
   "execution_count": null,
   "metadata": {},
   "outputs": [],
   "source": [
    "from sklearn.preprocessing import scale\n",
    "from sklearn.preprocessing import minmax_scale"
   ]
  },
  {
   "cell_type": "code",
   "execution_count": null,
   "metadata": {},
   "outputs": [],
   "source": [
    "X"
   ]
  },
  {
   "cell_type": "code",
   "execution_count": null,
   "metadata": {},
   "outputs": [],
   "source": [
    "scale(X)"
   ]
  },
  {
   "cell_type": "code",
   "execution_count": null,
   "metadata": {},
   "outputs": [],
   "source": [
    "minmax_scale(X)"
   ]
  },
  {
   "cell_type": "markdown",
   "metadata": {},
   "source": [
    "# Tarea"
   ]
  },
  {
   "cell_type": "markdown",
   "metadata": {},
   "source": [
    "Usando:"
   ]
  },
  {
   "cell_type": "code",
   "execution_count": null,
   "metadata": {},
   "outputs": [],
   "source": [
    "X_1 = scale(X)\n",
    "X_2 = minmax_scale(X)\n"
   ]
  },
  {
   "cell_type": "code",
   "execution_count": null,
   "metadata": {},
   "outputs": [],
   "source": [
    "#Comienzo por correr el KNN con el escalado mediante las dos técnicas\n",
    "\n",
    "#separo los dataset\n",
    "x_train_1, x_test_1, y_train_1, y_test_1 = train_test_split(X_1, Y, test_size=0.2, random_state=12, shuffle=True)\n",
    "x_train_2, x_test_2, y_train_2, y_test_2 = train_test_split(X_2, Y, test_size=0.2, random_state=12, shuffle=True)\n",
    "\n",
    "#entreno el modelo\n",
    "\n",
    "\n",
    "knn_1 = knn.fit(x_train_1,y_train_1)\n",
    "\n",
    "knn_2 = knn.fit(x_train_2,y_train_2)\n",
    "\n",
    "# #armo las predicciones\n",
    "\n",
    "y_pred_1 = knn_1.predict(x_test_1)\n",
    "\n",
    "y_pred_2 = knn_2.predict(x_test_2)\n",
    "\n",
    "#Obtengo el accuracy para ambos modelos\n",
    "\n",
    "print(\"El accuracy obtenido con el escalado es: \",knn_1.score(x_test_1,y_test_1))\n",
    "print(\"El accuracy obtenido con el escalado min max es: \",knn_2.score(x_test_2,y_test_2))\n"
   ]
  },
  {
   "cell_type": "markdown",
   "metadata": {},
   "source": [
    "Correr nuevamente KNN y DecisionTreeClassifier y comparar los resultados con los del dataset sin normalizar o escalar."
   ]
  },
  {
   "cell_type": "code",
   "execution_count": null,
   "metadata": {},
   "outputs": [],
   "source": [
    "#Aplico el preprocesamiento al decision tree\n",
    "\n",
    "from sklearn.preprocessing import MinMaxScaler\n",
    "from sklearn.preprocessing import Normalizer\n",
    "\n",
    "#Escalado\n",
    "escala=MinMaxScaler()\n",
    "\n",
    "escala.fit(X)\n",
    "\n",
    "X_escalada = escala.transform(X)\n",
    "\n",
    "#Normalizado\n",
    "\n",
    "normalize = Normalizer()\n",
    "\n",
    "normalize.fit(X)\n",
    "\n",
    "X_normalizada = normalize.transform(X)\n"
   ]
  },
  {
   "cell_type": "code",
   "execution_count": null,
   "metadata": {},
   "outputs": [],
   "source": [
    "\n",
    "np.random.seed(123)\n",
    "#Comienzo por correr el KNN con el escalado mediante las dos técnicas\n",
    "\n",
    "#separo los dataset\n",
    "x_train_sc, x_test_sc, y_train_sc, y_test_sc = train_test_split(X_escalada, Y, test_size=0.2, random_state=12, shuffle=True)\n",
    "x_train_n, x_test_n, y_train_n, y_test_n = train_test_split(X_normalizada, Y, test_size=0.2, random_state=12, shuffle=True)\n",
    "\n",
    "#entreno el modelo\n",
    "\n",
    "arbol = DecisionTreeClassifier(max_depth = 5)\n",
    "\n",
    "y_pred_sc = arbol.fit(x_train_sc,y_train_sc)\n",
    "y_pred_norm = arbol.fit(x_train_n,y_train_n)\n",
    "\n",
    "#Obtenemos las métricas\n",
    "\n",
    "print(\"El accuracy obtenido con el escalado min max es: \",arbol.score(x_test_sc,y_test_sc))\n",
    "print(\"El accuracy obtenido con el normalizado: \",arbol.score(x_test_n,y_test_n))\n",
    "\n"
   ]
  }
 ],
 "metadata": {
  "kernelspec": {
   "display_name": "Python 3",
   "language": "python",
   "name": "python3"
  },
  "language_info": {
   "codemirror_mode": {
    "name": "ipython",
    "version": 3
   },
   "file_extension": ".py",
   "mimetype": "text/x-python",
   "name": "python",
   "nbconvert_exporter": "python",
   "pygments_lexer": "ipython3",
   "version": "3.8.5"
  }
 },
 "nbformat": 4,
 "nbformat_minor": 4
}
