{
 "cells": [
  {
   "cell_type": "markdown",
   "metadata": {},
   "source": [
    "Matplotlib - Descripciones\n",
    "=="
   ]
  },
  {
   "cell_type": "markdown",
   "metadata": {},
   "source": [
    "Vamos a iniciar a trabajar con matplotlib aprendiendo a agregar comentarios y descripciones a los gráficos, para ello crearemos un gráfico con tres curvas en el dominio x = [0, 2] y adicionaremos 100 puntos equiespaciados dentro del dominio mediante:"
   ]
  },
  {
   "cell_type": "code",
   "execution_count": null,
   "metadata": {},
   "outputs": [],
   "source": [
    "import numpy as np"
   ]
  },
  {
   "cell_type": "markdown",
   "metadata": {},
   "source": [
    "Luego podemos crear las curvas utilizando el método plot() en donde pasamos como parámetros:\n",
    ">Primero los puntos correspondientes a la coordenada en x.\n",
    "\n",
    ">Segundo los puntos de la coordenada en y.\n",
    "\n",
    ">Tercero el color de línea o el tipo de representación para los puntos de la línea, si en lugar de poner ‘pink’ ponemos ‘+’ cada punto es representado por un signo de (+).\n",
    "\n",
    ">Cuarto el atributo label con la descripción de la curva. Para que la descripción salga en pantalla debemos agregamos el método legend().\n"
   ]
  },
  {
   "cell_type": "code",
   "execution_count": null,
   "metadata": {},
   "outputs": [],
   "source": [
    "x = np.linspace(0, 2, 100)\n",
    "x"
   ]
  },
  {
   "cell_type": "code",
   "execution_count": null,
   "metadata": {},
   "outputs": [],
   "source": [
    "import matplotlib.pyplot as plt \n",
    "x = np.linspace(0, 2, 100)\n",
    "plt.plot(x, x, 'pink', label='lineal')\n",
    "plt.plot(x, x**2, label='cuadratica')\n",
    "plt.plot(x, x**3, label='cubica')\n",
    "\n",
    "plt.legend()"
   ]
  },
  {
   "cell_type": "code",
   "execution_count": null,
   "metadata": {},
   "outputs": [],
   "source": [
    "%matplotlib notebook \n",
    "import matplotlib.pyplot as plt \n",
    "x = np.linspace(0, 2, 100)\n",
    "plt.plot(x, x, 'pink', label='lineal')\n",
    "plt.plot(x, x**2, label='cuadratica')\n",
    "plt.plot(x, x**3, label='cubica')\n",
    "\n",
    "plt.legend()\n",
    "plt.xlabel('Eje X')\n",
    "plt.ylabel('Eje Y')\n",
    "plt.title(\"Estructura de gráfico\")\n",
    "plt.xlim(0,2)\n",
    "plt.ylim(0,8)\n",
    "plt.grid()"
   ]
  },
  {
   "cell_type": "markdown",
   "metadata": {},
   "source": [
    "MARCAS\n",
    "=="
   ]
  },
  {
   "cell_type": "code",
   "execution_count": null,
   "metadata": {},
   "outputs": [],
   "source": [
    "import matplotlib.pyplot as plt\n",
    "from matplotlib.lines import Line2D\n",
    "\n",
    "for i,marker in enumerate(Line2D.markers):\n",
    "    plt.scatter(i%10,i,marker=marker,s=150) \n",
    "plt.show()\n"
   ]
  },
  {
   "cell_type": "markdown",
   "metadata": {},
   "source": [
    "ESTILOS DE LÍNEA\n",
    "=="
   ]
  },
  {
   "cell_type": "code",
   "execution_count": null,
   "metadata": {},
   "outputs": [],
   "source": [
    "import matplotlib.pyplot as plt\n",
    "import numpy as np\n",
    "x = np.linspace(0, 2, 100)\n",
    "plt.plot(x, x, '.',label='.')\n",
    "plt.plot(x, x**2, '--',label='--')\n",
    "plt.plot(x, x**3,'-.', label='-.')\n",
    "plt.xlabel('Eje X')\n",
    "plt.ylabel('Eje Y')\n",
    "plt.title(\"Estructura de gráfico\")\n",
    "plt.show()\n"
   ]
  },
  {
   "cell_type": "markdown",
   "metadata": {},
   "source": [
    "2.- Gráficos de línea\n",
    "=="
   ]
  },
  {
   "cell_type": "code",
   "execution_count": null,
   "metadata": {},
   "outputs": [],
   "source": [
    "y2 = [1,4,9,16,25,36,49,64]\n",
    "plt.plot(y2)\n",
    "plt.show()"
   ]
  },
  {
   "cell_type": "markdown",
   "metadata": {},
   "source": [
    "3.- Gráficos de dispersión\n",
    "=="
   ]
  },
  {
   "cell_type": "code",
   "execution_count": null,
   "metadata": {},
   "outputs": [],
   "source": [
    "import numpy as np\n",
    "np.random.seed(7)\n",
    "datos = np.random.rand(2,20)\n",
    "plt.scatter(datos[0],datos[1])\n",
    "plt.show()"
   ]
  },
  {
   "cell_type": "markdown",
   "metadata": {},
   "source": [
    "Grupos de dispersión\n",
    "=="
   ]
  },
  {
   "cell_type": "code",
   "execution_count": null,
   "metadata": {},
   "outputs": [],
   "source": [
    "import matplotlib.pyplot as plt\n",
    "from sklearn.datasets import make_blobs\n",
    "datos_mb,features = make_blobs(n_samples=20, centers=4, random_state=3)\n",
    "\n",
    "plt.scatter(datos_mb[:, 0], datos_mb[:, 1], marker='o', c=features) \n",
    "plt.show()"
   ]
  },
  {
   "cell_type": "markdown",
   "metadata": {},
   "source": [
    "4.- Polinomios\n",
    "=="
   ]
  },
  {
   "cell_type": "code",
   "execution_count": null,
   "metadata": {},
   "outputs": [],
   "source": [
    "x = list(range(-4 , 5))\n",
    "b = np.linspace(-4, 4, 200)\n",
    "y = [i**2 for i in x]\n",
    "z = np.polyfit(x, y, 2)\n",
    "p = np.poly1d(z)\n",
    "plt.plot(x,y,'x',b,p(b))"
   ]
  },
  {
   "cell_type": "markdown",
   "metadata": {},
   "source": [
    "5.- Mapa de colores\n",
    "=="
   ]
  },
  {
   "cell_type": "code",
   "execution_count": null,
   "metadata": {},
   "outputs": [],
   "source": [
    "import matplotlib.pyplot as plt\n",
    "import numpy as np\n",
    "fig, axes = plt.subplots(2, 2)  # Figura con grillas de ejes 2x2 \n",
    "fig.suptitle('Este es un título')"
   ]
  },
  {
   "cell_type": "code",
   "execution_count": null,
   "metadata": {},
   "outputs": [],
   "source": [
    "import numpy as np\n",
    "import matplotlib.pyplot as plt\n",
    "\n",
    "cmaps = [\n",
    "         ('Sequential', [\n",
    "            'Greys', 'Purples', 'Blues', 'Greens', 'Oranges', 'Reds',\n",
    "            'YlOrBr', 'YlOrRd', 'OrRd', 'PuRd', 'RdPu', 'BuPu',\n",
    "            'GnBu', 'PuBu', 'YlGnBu', 'PuBuGn', 'BuGn', 'YlGn']),\n",
    "         ('Sequential (2)', [\n",
    "            'binary', 'gist_yarg', 'gist_gray', 'gray', 'bone', 'pink',\n",
    "            'spring', 'summer', 'autumn', 'winter', 'cool', 'Wistia',\n",
    "            'hot', 'afmhot', 'gist_heat', 'copper']),\n",
    "        ]\n",
    "\n",
    "\n",
    "gradient = np.linspace(0, 1, 256)\n",
    "gradient = np.vstack((gradient, gradient))      \n",
    "\n",
    "def plot_color_gradients(clase_de_mapa, lista_de_datos):\n",
    " \n",
    "    numero_de_filas = len(lista_de_datos)\n",
    "    altura = 0.35 + 0.15 + (numero_de_filas + (numero_de_filas-1)*0.1)*0.22\n",
    "    fig, axes = plt.subplots(nrows=numero_de_filas, figsize=(6.4, altura))     \n",
    "    fig.subplots_adjust(top=1-.35/altura, bottom=.15/altura, left=0.2, right=0.99)\n",
    "\n",
    "    axes[0].set_title('Mapa de colores de tipo: ' + clase_de_mapa , fontsize=14)\n",
    "\n",
    "    for ax, nombre in zip(axes, lista_de_datos):\n",
    "        ax.imshow(gradient, aspect='auto', cmap=plt.get_cmap(nombre))\n",
    "        ax.text(-.01, .5, nombre, va='center', ha='right', fontsize=10,transform=ax.transAxes)\n",
    "\n",
    "    for ax in axes:\n",
    "        ax.set_axis_off()\n",
    "\n",
    "for clase_de_mapa, lista_de_datos in cmaps:\n",
    "    plot_color_gradients(clase_de_mapa, lista_de_datos)\n",
    "\n",
    "plt.show()\n"
   ]
  },
  {
   "cell_type": "code",
   "execution_count": 12,
   "metadata": {},
   "outputs": [
    {
     "name": "stdout",
     "output_type": "stream",
     "text": [
      "50\n"
     ]
    },
    {
     "data": {
      "image/png": "[encoded data removed]",
      "text/plain": [
       "<Figure size 640x480 with 2 Axes>"
      ]
     },
     "metadata": {},
     "output_type": "display_data"
    }
   ],
   "source": [
    "import numpy as np\n",
    "import matplotlib.pyplot as plt\n",
    "import matplotlib.colors\n",
    "\n",
    "np.random.seed(7)\n",
    "x,y = zip(*np.random.rand(50,2))\n",
    "color=[]\n",
    "print(len(x))\n",
    "for i in range(0,50):\n",
    "    color.append(x[i]+y[i]/2)\n",
    "\n",
    "cmap = matplotlib.colors.LinearSegmentedColormap.from_list(\"\", [\"red\",\"yellow\",\"green\", \"blue\"])\n",
    "plt.scatter(x,y,c=color,cmap= cmap)\n",
    "plt.colorbar()\n",
    "plt.show()\n",
    "\n"
   ]
  },
  {
   "cell_type": "code",
   "execution_count": null,
   "metadata": {},
   "outputs": [],
   "source": []
  }
 ],
 "metadata": {
  "kernelspec": {
   "display_name": "Python 3 (ipykernel)",
   "language": "python",
   "name": "python3"
  },
  "language_info": {
   "codemirror_mode": {
    "name": "ipython",
    "version": 3
   },
   "file_extension": ".py",
   "mimetype": "text/x-python",
   "name": "python",
   "nbconvert_exporter": "python",
   "pygments_lexer": "ipython3",
   "version": "3.9.13"
  }
 },
 "nbformat": 4,
 "nbformat_minor": 4
}
