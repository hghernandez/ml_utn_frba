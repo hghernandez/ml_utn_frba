{
 "cells": [
  {
   "cell_type": "markdown",
   "metadata": {},
   "source": [
    "Analisis de la carrera en el Barça de Messi\n",
    "=="
   ]
  },
  {
   "cell_type": "markdown",
   "metadata": {},
   "source": [
    "<img src=\"https://as01.epimg.net/futbol/imagenes/2021/03/21/primera/1616352554_970003_1616352733_noticia_normal_recorte1.jpg\" />"
   ]
  },
  {
   "cell_type": "markdown",
   "metadata": {},
   "source": [
    "Si hay algo raro que nos toco ver ultimamente, es verlo a Messi con una camiseta distinta a la del Barça. Como bien lo dijo el idolo:\n",
    "\n",
    "_\"El Barça es mi vida. Amo al Barça y a Barcelona. Siempre lo he dado todo por este Club\"_\n",
    "\n",
    "En honor a la carrera del idolo argentino en el club catalan, analisemos su paso por el Barça en numeros."
   ]
  },
  {
   "cell_type": "markdown",
   "metadata": {},
   "source": [
    "## Importar los datos"
   ]
  },
  {
   "cell_type": "code",
   "execution_count": 1,
   "metadata": {},
   "outputs": [],
   "source": [
    "import pandas as pd\n",
    "import matplotlib.pyplot as plt"
   ]
  },
  {
   "cell_type": "code",
   "execution_count": 2,
   "metadata": {},
   "outputs": [
    {
     "data": {
      "text/html": [
       "<div>\n",
       "<style scoped>\n",
       "    .dataframe tbody tr th:only-of-type {\n",
       "        vertical-align: middle;\n",
       "    }\n",
       "\n",
       "    .dataframe tbody tr th {\n",
       "        vertical-align: top;\n",
       "    }\n",
       "\n",
       "    .dataframe thead th {\n",
       "        text-align: right;\n",
       "    }\n",
       "</style>\n",
       "<table border=\"1\" class=\"dataframe\">\n",
       "  <thead>\n",
       "    <tr style=\"text-align: right;\">\n",
       "      <th></th>\n",
       "      <th>Season</th>\n",
       "      <th>Age</th>\n",
       "      <th>Competition</th>\n",
       "      <th>Matches Played</th>\n",
       "      <th>Starts</th>\n",
       "      <th>Minutes played</th>\n",
       "      <th>Goals scored</th>\n",
       "      <th>Assists</th>\n",
       "      <th>PK</th>\n",
       "      <th>PKatt</th>\n",
       "      <th>CrdY</th>\n",
       "      <th>CrdR</th>\n",
       "      <th>Goal/90</th>\n",
       "      <th>Ast/90</th>\n",
       "      <th>G+A/90</th>\n",
       "      <th>G-PK/90</th>\n",
       "      <th>G+A-PK/90</th>\n",
       "    </tr>\n",
       "  </thead>\n",
       "  <tbody>\n",
       "    <tr>\n",
       "      <th>0</th>\n",
       "      <td>2004-2005</td>\n",
       "      <td>17</td>\n",
       "      <td>Champions League</td>\n",
       "      <td>1</td>\n",
       "      <td>1</td>\n",
       "      <td>90</td>\n",
       "      <td>0</td>\n",
       "      <td>0</td>\n",
       "      <td>0</td>\n",
       "      <td>0</td>\n",
       "      <td>0</td>\n",
       "      <td>0</td>\n",
       "      <td>0.00</td>\n",
       "      <td>0.00</td>\n",
       "      <td>0.00</td>\n",
       "      <td>0.00</td>\n",
       "      <td>0.00</td>\n",
       "    </tr>\n",
       "    <tr>\n",
       "      <th>1</th>\n",
       "      <td>2004-2005</td>\n",
       "      <td>17</td>\n",
       "      <td>La Liga</td>\n",
       "      <td>7</td>\n",
       "      <td>0</td>\n",
       "      <td>70</td>\n",
       "      <td>1</td>\n",
       "      <td>0</td>\n",
       "      <td>0</td>\n",
       "      <td>0</td>\n",
       "      <td>0</td>\n",
       "      <td>0</td>\n",
       "      <td>1.29</td>\n",
       "      <td>0.00</td>\n",
       "      <td>1.29</td>\n",
       "      <td>1.29</td>\n",
       "      <td>1.29</td>\n",
       "    </tr>\n",
       "    <tr>\n",
       "      <th>2</th>\n",
       "      <td>2005-2006</td>\n",
       "      <td>18</td>\n",
       "      <td>Champions League</td>\n",
       "      <td>6</td>\n",
       "      <td>4</td>\n",
       "      <td>322</td>\n",
       "      <td>1</td>\n",
       "      <td>1</td>\n",
       "      <td>0</td>\n",
       "      <td>0</td>\n",
       "      <td>0</td>\n",
       "      <td>0</td>\n",
       "      <td>0.28</td>\n",
       "      <td>0.28</td>\n",
       "      <td>0.56</td>\n",
       "      <td>0.28</td>\n",
       "      <td>0.56</td>\n",
       "    </tr>\n",
       "    <tr>\n",
       "      <th>3</th>\n",
       "      <td>2005-2006</td>\n",
       "      <td>18</td>\n",
       "      <td>La Liga</td>\n",
       "      <td>17</td>\n",
       "      <td>11</td>\n",
       "      <td>911</td>\n",
       "      <td>6</td>\n",
       "      <td>3</td>\n",
       "      <td>0</td>\n",
       "      <td>0</td>\n",
       "      <td>2</td>\n",
       "      <td>0</td>\n",
       "      <td>0.59</td>\n",
       "      <td>0.30</td>\n",
       "      <td>0.89</td>\n",
       "      <td>0.59</td>\n",
       "      <td>0.89</td>\n",
       "    </tr>\n",
       "    <tr>\n",
       "      <th>4</th>\n",
       "      <td>2006-2007</td>\n",
       "      <td>19</td>\n",
       "      <td>Champions League</td>\n",
       "      <td>5</td>\n",
       "      <td>4</td>\n",
       "      <td>385</td>\n",
       "      <td>1</td>\n",
       "      <td>0</td>\n",
       "      <td>0</td>\n",
       "      <td>0</td>\n",
       "      <td>1</td>\n",
       "      <td>0</td>\n",
       "      <td>0.23</td>\n",
       "      <td>0.00</td>\n",
       "      <td>0.23</td>\n",
       "      <td>0.23</td>\n",
       "      <td>0.23</td>\n",
       "    </tr>\n",
       "    <tr>\n",
       "      <th>5</th>\n",
       "      <td>2006-2007</td>\n",
       "      <td>19</td>\n",
       "      <td>La Liga</td>\n",
       "      <td>26</td>\n",
       "      <td>23</td>\n",
       "      <td>1983</td>\n",
       "      <td>14</td>\n",
       "      <td>3</td>\n",
       "      <td>0</td>\n",
       "      <td>0</td>\n",
       "      <td>2</td>\n",
       "      <td>0</td>\n",
       "      <td>0.64</td>\n",
       "      <td>0.14</td>\n",
       "      <td>0.77</td>\n",
       "      <td>0.64</td>\n",
       "      <td>0.77</td>\n",
       "    </tr>\n",
       "    <tr>\n",
       "      <th>6</th>\n",
       "      <td>2007-2008</td>\n",
       "      <td>20</td>\n",
       "      <td>Champions League</td>\n",
       "      <td>9</td>\n",
       "      <td>9</td>\n",
       "      <td>728</td>\n",
       "      <td>6</td>\n",
       "      <td>2</td>\n",
       "      <td>1</td>\n",
       "      <td>1</td>\n",
       "      <td>2</td>\n",
       "      <td>0</td>\n",
       "      <td>0.74</td>\n",
       "      <td>0.25</td>\n",
       "      <td>0.99</td>\n",
       "      <td>0.62</td>\n",
       "      <td>0.87</td>\n",
       "    </tr>\n",
       "    <tr>\n",
       "      <th>7</th>\n",
       "      <td>2007-2008</td>\n",
       "      <td>20</td>\n",
       "      <td>La Liga</td>\n",
       "      <td>27</td>\n",
       "      <td>23</td>\n",
       "      <td>1973</td>\n",
       "      <td>10</td>\n",
       "      <td>12</td>\n",
       "      <td>4</td>\n",
       "      <td>4</td>\n",
       "      <td>2</td>\n",
       "      <td>0</td>\n",
       "      <td>0.46</td>\n",
       "      <td>0.55</td>\n",
       "      <td>1.00</td>\n",
       "      <td>0.27</td>\n",
       "      <td>0.82</td>\n",
       "    </tr>\n",
       "    <tr>\n",
       "      <th>8</th>\n",
       "      <td>2008-2009</td>\n",
       "      <td>21</td>\n",
       "      <td>Champions League</td>\n",
       "      <td>12</td>\n",
       "      <td>10</td>\n",
       "      <td>927</td>\n",
       "      <td>9</td>\n",
       "      <td>5</td>\n",
       "      <td>0</td>\n",
       "      <td>0</td>\n",
       "      <td>1</td>\n",
       "      <td>0</td>\n",
       "      <td>0.87</td>\n",
       "      <td>0.49</td>\n",
       "      <td>1.36</td>\n",
       "      <td>0.87</td>\n",
       "      <td>1.36</td>\n",
       "    </tr>\n",
       "    <tr>\n",
       "      <th>9</th>\n",
       "      <td>2008-2009</td>\n",
       "      <td>21</td>\n",
       "      <td>La Liga</td>\n",
       "      <td>31</td>\n",
       "      <td>27</td>\n",
       "      <td>2516</td>\n",
       "      <td>23</td>\n",
       "      <td>11</td>\n",
       "      <td>3</td>\n",
       "      <td>4</td>\n",
       "      <td>2</td>\n",
       "      <td>0</td>\n",
       "      <td>0.82</td>\n",
       "      <td>0.39</td>\n",
       "      <td>1.22</td>\n",
       "      <td>0.72</td>\n",
       "      <td>1.11</td>\n",
       "    </tr>\n",
       "    <tr>\n",
       "      <th>10</th>\n",
       "      <td>2009-2010</td>\n",
       "      <td>22</td>\n",
       "      <td>Champions League</td>\n",
       "      <td>11</td>\n",
       "      <td>11</td>\n",
       "      <td>987</td>\n",
       "      <td>8</td>\n",
       "      <td>0</td>\n",
       "      <td>0</td>\n",
       "      <td>0</td>\n",
       "      <td>0</td>\n",
       "      <td>0</td>\n",
       "      <td>0.73</td>\n",
       "      <td>0.00</td>\n",
       "      <td>0.73</td>\n",
       "      <td>0.73</td>\n",
       "      <td>0.73</td>\n",
       "    </tr>\n",
       "    <tr>\n",
       "      <th>11</th>\n",
       "      <td>2009-2010</td>\n",
       "      <td>22</td>\n",
       "      <td>La Liga</td>\n",
       "      <td>35</td>\n",
       "      <td>30</td>\n",
       "      <td>2805</td>\n",
       "      <td>34</td>\n",
       "      <td>9</td>\n",
       "      <td>1</td>\n",
       "      <td>1</td>\n",
       "      <td>3</td>\n",
       "      <td>0</td>\n",
       "      <td>1.09</td>\n",
       "      <td>0.29</td>\n",
       "      <td>1.38</td>\n",
       "      <td>1.06</td>\n",
       "      <td>1.35</td>\n",
       "    </tr>\n",
       "    <tr>\n",
       "      <th>12</th>\n",
       "      <td>2010-2011</td>\n",
       "      <td>23</td>\n",
       "      <td>Champions League</td>\n",
       "      <td>13</td>\n",
       "      <td>11</td>\n",
       "      <td>1046</td>\n",
       "      <td>12</td>\n",
       "      <td>3</td>\n",
       "      <td>1</td>\n",
       "      <td>2</td>\n",
       "      <td>0</td>\n",
       "      <td>0</td>\n",
       "      <td>1.03</td>\n",
       "      <td>0.26</td>\n",
       "      <td>1.29</td>\n",
       "      <td>0.95</td>\n",
       "      <td>1.20</td>\n",
       "    </tr>\n",
       "    <tr>\n",
       "      <th>13</th>\n",
       "      <td>2010-2011</td>\n",
       "      <td>23</td>\n",
       "      <td>La Liga</td>\n",
       "      <td>33</td>\n",
       "      <td>31</td>\n",
       "      <td>2858</td>\n",
       "      <td>31</td>\n",
       "      <td>19</td>\n",
       "      <td>4</td>\n",
       "      <td>4</td>\n",
       "      <td>3</td>\n",
       "      <td>0</td>\n",
       "      <td>0.98</td>\n",
       "      <td>0.60</td>\n",
       "      <td>1.57</td>\n",
       "      <td>0.85</td>\n",
       "      <td>1.45</td>\n",
       "    </tr>\n",
       "    <tr>\n",
       "      <th>14</th>\n",
       "      <td>2011-2012</td>\n",
       "      <td>24</td>\n",
       "      <td>Champions League</td>\n",
       "      <td>11</td>\n",
       "      <td>11</td>\n",
       "      <td>990</td>\n",
       "      <td>14</td>\n",
       "      <td>5</td>\n",
       "      <td>4</td>\n",
       "      <td>5</td>\n",
       "      <td>2</td>\n",
       "      <td>0</td>\n",
       "      <td>1.27</td>\n",
       "      <td>0.45</td>\n",
       "      <td>1.73</td>\n",
       "      <td>0.91</td>\n",
       "      <td>1.36</td>\n",
       "    </tr>\n",
       "    <tr>\n",
       "      <th>15</th>\n",
       "      <td>2011-2012</td>\n",
       "      <td>24</td>\n",
       "      <td>La Liga</td>\n",
       "      <td>37</td>\n",
       "      <td>36</td>\n",
       "      <td>3270</td>\n",
       "      <td>50</td>\n",
       "      <td>16</td>\n",
       "      <td>10</td>\n",
       "      <td>11</td>\n",
       "      <td>6</td>\n",
       "      <td>0</td>\n",
       "      <td>1.38</td>\n",
       "      <td>0.44</td>\n",
       "      <td>1.82</td>\n",
       "      <td>1.10</td>\n",
       "      <td>1.54</td>\n",
       "    </tr>\n",
       "    <tr>\n",
       "      <th>16</th>\n",
       "      <td>2012-2013</td>\n",
       "      <td>25</td>\n",
       "      <td>Champions League</td>\n",
       "      <td>11</td>\n",
       "      <td>9</td>\n",
       "      <td>826</td>\n",
       "      <td>8</td>\n",
       "      <td>2</td>\n",
       "      <td>0</td>\n",
       "      <td>0</td>\n",
       "      <td>0</td>\n",
       "      <td>0</td>\n",
       "      <td>0.87</td>\n",
       "      <td>0.22</td>\n",
       "      <td>1.09</td>\n",
       "      <td>0.87</td>\n",
       "      <td>1.09</td>\n",
       "    </tr>\n",
       "    <tr>\n",
       "      <th>17</th>\n",
       "      <td>2012-2013</td>\n",
       "      <td>25</td>\n",
       "      <td>La Liga</td>\n",
       "      <td>32</td>\n",
       "      <td>28</td>\n",
       "      <td>2650</td>\n",
       "      <td>46</td>\n",
       "      <td>11</td>\n",
       "      <td>4</td>\n",
       "      <td>4</td>\n",
       "      <td>1</td>\n",
       "      <td>0</td>\n",
       "      <td>1.56</td>\n",
       "      <td>0.37</td>\n",
       "      <td>1.94</td>\n",
       "      <td>1.43</td>\n",
       "      <td>1.80</td>\n",
       "    </tr>\n",
       "    <tr>\n",
       "      <th>18</th>\n",
       "      <td>2013-2014</td>\n",
       "      <td>26</td>\n",
       "      <td>Champions League</td>\n",
       "      <td>7</td>\n",
       "      <td>7</td>\n",
       "      <td>630</td>\n",
       "      <td>8</td>\n",
       "      <td>0</td>\n",
       "      <td>2</td>\n",
       "      <td>2</td>\n",
       "      <td>0</td>\n",
       "      <td>0</td>\n",
       "      <td>1.14</td>\n",
       "      <td>0.00</td>\n",
       "      <td>1.14</td>\n",
       "      <td>0.86</td>\n",
       "      <td>0.86</td>\n",
       "    </tr>\n",
       "    <tr>\n",
       "      <th>19</th>\n",
       "      <td>2013-2014</td>\n",
       "      <td>26</td>\n",
       "      <td>La Liga</td>\n",
       "      <td>31</td>\n",
       "      <td>29</td>\n",
       "      <td>2501</td>\n",
       "      <td>28</td>\n",
       "      <td>11</td>\n",
       "      <td>7</td>\n",
       "      <td>8</td>\n",
       "      <td>2</td>\n",
       "      <td>0</td>\n",
       "      <td>1.01</td>\n",
       "      <td>0.40</td>\n",
       "      <td>1.40</td>\n",
       "      <td>0.76</td>\n",
       "      <td>1.15</td>\n",
       "    </tr>\n",
       "    <tr>\n",
       "      <th>20</th>\n",
       "      <td>2014-2015</td>\n",
       "      <td>27</td>\n",
       "      <td>Champions League</td>\n",
       "      <td>13</td>\n",
       "      <td>13</td>\n",
       "      <td>1147</td>\n",
       "      <td>10</td>\n",
       "      <td>6</td>\n",
       "      <td>0</td>\n",
       "      <td>1</td>\n",
       "      <td>1</td>\n",
       "      <td>0</td>\n",
       "      <td>0.78</td>\n",
       "      <td>0.47</td>\n",
       "      <td>1.26</td>\n",
       "      <td>0.78</td>\n",
       "      <td>1.26</td>\n",
       "    </tr>\n",
       "    <tr>\n",
       "      <th>21</th>\n",
       "      <td>2014-2015</td>\n",
       "      <td>27</td>\n",
       "      <td>Copa del Rey</td>\n",
       "      <td>6</td>\n",
       "      <td>6</td>\n",
       "      <td>540</td>\n",
       "      <td>5</td>\n",
       "      <td>3</td>\n",
       "      <td>1</td>\n",
       "      <td>2</td>\n",
       "      <td>1</td>\n",
       "      <td>0</td>\n",
       "      <td>0.83</td>\n",
       "      <td>0.50</td>\n",
       "      <td>1.33</td>\n",
       "      <td>0.67</td>\n",
       "      <td>1.17</td>\n",
       "    </tr>\n",
       "    <tr>\n",
       "      <th>22</th>\n",
       "      <td>2014-2015</td>\n",
       "      <td>27</td>\n",
       "      <td>La Liga</td>\n",
       "      <td>38</td>\n",
       "      <td>37</td>\n",
       "      <td>3375</td>\n",
       "      <td>43</td>\n",
       "      <td>18</td>\n",
       "      <td>5</td>\n",
       "      <td>6</td>\n",
       "      <td>4</td>\n",
       "      <td>0</td>\n",
       "      <td>1.15</td>\n",
       "      <td>0.48</td>\n",
       "      <td>1.63</td>\n",
       "      <td>1.01</td>\n",
       "      <td>1.49</td>\n",
       "    </tr>\n",
       "    <tr>\n",
       "      <th>23</th>\n",
       "      <td>2015-2016</td>\n",
       "      <td>28</td>\n",
       "      <td>Champions League</td>\n",
       "      <td>7</td>\n",
       "      <td>7</td>\n",
       "      <td>630</td>\n",
       "      <td>6</td>\n",
       "      <td>1</td>\n",
       "      <td>1</td>\n",
       "      <td>1</td>\n",
       "      <td>1</td>\n",
       "      <td>0</td>\n",
       "      <td>0.86</td>\n",
       "      <td>0.14</td>\n",
       "      <td>1.00</td>\n",
       "      <td>0.71</td>\n",
       "      <td>0.86</td>\n",
       "    </tr>\n",
       "    <tr>\n",
       "      <th>24</th>\n",
       "      <td>2015-2016</td>\n",
       "      <td>28</td>\n",
       "      <td>Copa del Rey</td>\n",
       "      <td>5</td>\n",
       "      <td>5</td>\n",
       "      <td>480</td>\n",
       "      <td>5</td>\n",
       "      <td>5</td>\n",
       "      <td>0</td>\n",
       "      <td>0</td>\n",
       "      <td>1</td>\n",
       "      <td>0</td>\n",
       "      <td>0.94</td>\n",
       "      <td>0.94</td>\n",
       "      <td>1.87</td>\n",
       "      <td>0.94</td>\n",
       "      <td>1.87</td>\n",
       "    </tr>\n",
       "    <tr>\n",
       "      <th>25</th>\n",
       "      <td>2015-2016</td>\n",
       "      <td>28</td>\n",
       "      <td>La Liga</td>\n",
       "      <td>33</td>\n",
       "      <td>31</td>\n",
       "      <td>2729</td>\n",
       "      <td>26</td>\n",
       "      <td>16</td>\n",
       "      <td>3</td>\n",
       "      <td>6</td>\n",
       "      <td>3</td>\n",
       "      <td>0</td>\n",
       "      <td>0.86</td>\n",
       "      <td>0.53</td>\n",
       "      <td>1.39</td>\n",
       "      <td>0.76</td>\n",
       "      <td>1.29</td>\n",
       "    </tr>\n",
       "    <tr>\n",
       "      <th>26</th>\n",
       "      <td>2015-2016</td>\n",
       "      <td>28</td>\n",
       "      <td>Supercopa de España</td>\n",
       "      <td>2</td>\n",
       "      <td>2</td>\n",
       "      <td>180</td>\n",
       "      <td>1</td>\n",
       "      <td>0</td>\n",
       "      <td>0</td>\n",
       "      <td>0</td>\n",
       "      <td>0</td>\n",
       "      <td>0</td>\n",
       "      <td>0.50</td>\n",
       "      <td>0.00</td>\n",
       "      <td>0.50</td>\n",
       "      <td>0.50</td>\n",
       "      <td>0.50</td>\n",
       "    </tr>\n",
       "    <tr>\n",
       "      <th>27</th>\n",
       "      <td>2016-2017</td>\n",
       "      <td>29</td>\n",
       "      <td>Champions League</td>\n",
       "      <td>9</td>\n",
       "      <td>9</td>\n",
       "      <td>810</td>\n",
       "      <td>11</td>\n",
       "      <td>2</td>\n",
       "      <td>2</td>\n",
       "      <td>2</td>\n",
       "      <td>0</td>\n",
       "      <td>0</td>\n",
       "      <td>1.22</td>\n",
       "      <td>0.22</td>\n",
       "      <td>1.44</td>\n",
       "      <td>1.00</td>\n",
       "      <td>1.22</td>\n",
       "    </tr>\n",
       "    <tr>\n",
       "      <th>28</th>\n",
       "      <td>2016-2017</td>\n",
       "      <td>29</td>\n",
       "      <td>Copa del Rey</td>\n",
       "      <td>7</td>\n",
       "      <td>7</td>\n",
       "      <td>630</td>\n",
       "      <td>5</td>\n",
       "      <td>3</td>\n",
       "      <td>1</td>\n",
       "      <td>1</td>\n",
       "      <td>3</td>\n",
       "      <td>0</td>\n",
       "      <td>0.71</td>\n",
       "      <td>0.43</td>\n",
       "      <td>1.14</td>\n",
       "      <td>0.57</td>\n",
       "      <td>1.00</td>\n",
       "    </tr>\n",
       "    <tr>\n",
       "      <th>29</th>\n",
       "      <td>2016-2017</td>\n",
       "      <td>29</td>\n",
       "      <td>La Liga</td>\n",
       "      <td>34</td>\n",
       "      <td>32</td>\n",
       "      <td>2828</td>\n",
       "      <td>37</td>\n",
       "      <td>9</td>\n",
       "      <td>6</td>\n",
       "      <td>7</td>\n",
       "      <td>6</td>\n",
       "      <td>0</td>\n",
       "      <td>1.18</td>\n",
       "      <td>0.29</td>\n",
       "      <td>1.46</td>\n",
       "      <td>0.99</td>\n",
       "      <td>1.27</td>\n",
       "    </tr>\n",
       "    <tr>\n",
       "      <th>30</th>\n",
       "      <td>2016-2017</td>\n",
       "      <td>29</td>\n",
       "      <td>Supercopa de España</td>\n",
       "      <td>2</td>\n",
       "      <td>2</td>\n",
       "      <td>180</td>\n",
       "      <td>1</td>\n",
       "      <td>2</td>\n",
       "      <td>0</td>\n",
       "      <td>0</td>\n",
       "      <td>0</td>\n",
       "      <td>0</td>\n",
       "      <td>0.50</td>\n",
       "      <td>1.00</td>\n",
       "      <td>1.50</td>\n",
       "      <td>0.50</td>\n",
       "      <td>1.50</td>\n",
       "    </tr>\n",
       "    <tr>\n",
       "      <th>31</th>\n",
       "      <td>2017-2018</td>\n",
       "      <td>30</td>\n",
       "      <td>Champions League</td>\n",
       "      <td>10</td>\n",
       "      <td>8</td>\n",
       "      <td>783</td>\n",
       "      <td>6</td>\n",
       "      <td>2</td>\n",
       "      <td>0</td>\n",
       "      <td>0</td>\n",
       "      <td>2</td>\n",
       "      <td>0</td>\n",
       "      <td>0.69</td>\n",
       "      <td>0.23</td>\n",
       "      <td>0.92</td>\n",
       "      <td>0.69</td>\n",
       "      <td>0.92</td>\n",
       "    </tr>\n",
       "    <tr>\n",
       "      <th>32</th>\n",
       "      <td>2017-2018</td>\n",
       "      <td>30</td>\n",
       "      <td>Copa del Rey</td>\n",
       "      <td>6</td>\n",
       "      <td>6</td>\n",
       "      <td>508</td>\n",
       "      <td>4</td>\n",
       "      <td>4</td>\n",
       "      <td>0</td>\n",
       "      <td>1</td>\n",
       "      <td>1</td>\n",
       "      <td>0</td>\n",
       "      <td>0.71</td>\n",
       "      <td>0.71</td>\n",
       "      <td>1.42</td>\n",
       "      <td>0.71</td>\n",
       "      <td>1.42</td>\n",
       "    </tr>\n",
       "    <tr>\n",
       "      <th>33</th>\n",
       "      <td>2017-2018</td>\n",
       "      <td>30</td>\n",
       "      <td>La Liga</td>\n",
       "      <td>36</td>\n",
       "      <td>32</td>\n",
       "      <td>3002</td>\n",
       "      <td>34</td>\n",
       "      <td>12</td>\n",
       "      <td>2</td>\n",
       "      <td>4</td>\n",
       "      <td>3</td>\n",
       "      <td>0</td>\n",
       "      <td>1.02</td>\n",
       "      <td>0.36</td>\n",
       "      <td>1.38</td>\n",
       "      <td>0.96</td>\n",
       "      <td>1.32</td>\n",
       "    </tr>\n",
       "    <tr>\n",
       "      <th>34</th>\n",
       "      <td>2017-2018</td>\n",
       "      <td>30</td>\n",
       "      <td>Supercopa de España</td>\n",
       "      <td>2</td>\n",
       "      <td>2</td>\n",
       "      <td>180</td>\n",
       "      <td>1</td>\n",
       "      <td>0</td>\n",
       "      <td>1</td>\n",
       "      <td>1</td>\n",
       "      <td>1</td>\n",
       "      <td>0</td>\n",
       "      <td>0.50</td>\n",
       "      <td>0.00</td>\n",
       "      <td>0.50</td>\n",
       "      <td>0.00</td>\n",
       "      <td>0.00</td>\n",
       "    </tr>\n",
       "    <tr>\n",
       "      <th>35</th>\n",
       "      <td>2018-2019</td>\n",
       "      <td>31</td>\n",
       "      <td>Champions League</td>\n",
       "      <td>10</td>\n",
       "      <td>9</td>\n",
       "      <td>838</td>\n",
       "      <td>12</td>\n",
       "      <td>3</td>\n",
       "      <td>1</td>\n",
       "      <td>1</td>\n",
       "      <td>0</td>\n",
       "      <td>0</td>\n",
       "      <td>1.29</td>\n",
       "      <td>0.32</td>\n",
       "      <td>1.61</td>\n",
       "      <td>1.18</td>\n",
       "      <td>1.50</td>\n",
       "    </tr>\n",
       "    <tr>\n",
       "      <th>36</th>\n",
       "      <td>2018-2019</td>\n",
       "      <td>31</td>\n",
       "      <td>Copa del Rey</td>\n",
       "      <td>5</td>\n",
       "      <td>4</td>\n",
       "      <td>388</td>\n",
       "      <td>3</td>\n",
       "      <td>2</td>\n",
       "      <td>0</td>\n",
       "      <td>0</td>\n",
       "      <td>0</td>\n",
       "      <td>0</td>\n",
       "      <td>0.70</td>\n",
       "      <td>0.46</td>\n",
       "      <td>1.16</td>\n",
       "      <td>0.70</td>\n",
       "      <td>1.16</td>\n",
       "    </tr>\n",
       "    <tr>\n",
       "      <th>37</th>\n",
       "      <td>2018-2019</td>\n",
       "      <td>31</td>\n",
       "      <td>La Liga</td>\n",
       "      <td>34</td>\n",
       "      <td>29</td>\n",
       "      <td>2713</td>\n",
       "      <td>36</td>\n",
       "      <td>13</td>\n",
       "      <td>4</td>\n",
       "      <td>5</td>\n",
       "      <td>3</td>\n",
       "      <td>0</td>\n",
       "      <td>1.19</td>\n",
       "      <td>0.43</td>\n",
       "      <td>1.63</td>\n",
       "      <td>1.06</td>\n",
       "      <td>1.49</td>\n",
       "    </tr>\n",
       "    <tr>\n",
       "      <th>38</th>\n",
       "      <td>2018-2019</td>\n",
       "      <td>31</td>\n",
       "      <td>Supercopa de España</td>\n",
       "      <td>1</td>\n",
       "      <td>1</td>\n",
       "      <td>90</td>\n",
       "      <td>0</td>\n",
       "      <td>1</td>\n",
       "      <td>0</td>\n",
       "      <td>0</td>\n",
       "      <td>0</td>\n",
       "      <td>0</td>\n",
       "      <td>0.00</td>\n",
       "      <td>1.00</td>\n",
       "      <td>1.00</td>\n",
       "      <td>0.00</td>\n",
       "      <td>1.00</td>\n",
       "    </tr>\n",
       "    <tr>\n",
       "      <th>39</th>\n",
       "      <td>2019-2020</td>\n",
       "      <td>32</td>\n",
       "      <td>Champions League</td>\n",
       "      <td>8</td>\n",
       "      <td>7</td>\n",
       "      <td>662</td>\n",
       "      <td>3</td>\n",
       "      <td>3</td>\n",
       "      <td>0</td>\n",
       "      <td>0</td>\n",
       "      <td>2</td>\n",
       "      <td>0</td>\n",
       "      <td>0.41</td>\n",
       "      <td>0.41</td>\n",
       "      <td>0.82</td>\n",
       "      <td>0.41</td>\n",
       "      <td>0.82</td>\n",
       "    </tr>\n",
       "    <tr>\n",
       "      <th>40</th>\n",
       "      <td>2019-2020</td>\n",
       "      <td>32</td>\n",
       "      <td>Copa del Rey</td>\n",
       "      <td>2</td>\n",
       "      <td>2</td>\n",
       "      <td>180</td>\n",
       "      <td>2</td>\n",
       "      <td>1</td>\n",
       "      <td>0</td>\n",
       "      <td>0</td>\n",
       "      <td>1</td>\n",
       "      <td>0</td>\n",
       "      <td>1.00</td>\n",
       "      <td>0.50</td>\n",
       "      <td>1.50</td>\n",
       "      <td>1.00</td>\n",
       "      <td>1.50</td>\n",
       "    </tr>\n",
       "    <tr>\n",
       "      <th>41</th>\n",
       "      <td>2019-2020</td>\n",
       "      <td>32</td>\n",
       "      <td>La Liga</td>\n",
       "      <td>33</td>\n",
       "      <td>32</td>\n",
       "      <td>2880</td>\n",
       "      <td>25</td>\n",
       "      <td>20</td>\n",
       "      <td>5</td>\n",
       "      <td>5</td>\n",
       "      <td>4</td>\n",
       "      <td>0</td>\n",
       "      <td>0.78</td>\n",
       "      <td>0.62</td>\n",
       "      <td>1.41</td>\n",
       "      <td>0.62</td>\n",
       "      <td>1.25</td>\n",
       "    </tr>\n",
       "    <tr>\n",
       "      <th>42</th>\n",
       "      <td>2019-2020</td>\n",
       "      <td>32</td>\n",
       "      <td>Supercopa de España</td>\n",
       "      <td>1</td>\n",
       "      <td>1</td>\n",
       "      <td>90</td>\n",
       "      <td>1</td>\n",
       "      <td>0</td>\n",
       "      <td>0</td>\n",
       "      <td>0</td>\n",
       "      <td>0</td>\n",
       "      <td>0</td>\n",
       "      <td>1.00</td>\n",
       "      <td>0.00</td>\n",
       "      <td>1.00</td>\n",
       "      <td>1.00</td>\n",
       "      <td>1.00</td>\n",
       "    </tr>\n",
       "  </tbody>\n",
       "</table>\n",
       "</div>"
      ],
      "text/plain": [
       "       Season  Age          Competition  Matches Played  Starts  \\\n",
       "0   2004-2005   17     Champions League               1       1   \n",
       "1   2004-2005   17              La Liga               7       0   \n",
       "2   2005-2006   18     Champions League               6       4   \n",
       "3   2005-2006   18              La Liga              17      11   \n",
       "4   2006-2007   19     Champions League               5       4   \n",
       "5   2006-2007   19              La Liga              26      23   \n",
       "6   2007-2008   20     Champions League               9       9   \n",
       "7   2007-2008   20              La Liga              27      23   \n",
       "8   2008-2009   21     Champions League              12      10   \n",
       "9   2008-2009   21              La Liga              31      27   \n",
       "10  2009-2010   22     Champions League              11      11   \n",
       "11  2009-2010   22              La Liga              35      30   \n",
       "12  2010-2011   23     Champions League              13      11   \n",
       "13  2010-2011   23              La Liga              33      31   \n",
       "14  2011-2012   24     Champions League              11      11   \n",
       "15  2011-2012   24              La Liga              37      36   \n",
       "16  2012-2013   25     Champions League              11       9   \n",
       "17  2012-2013   25              La Liga              32      28   \n",
       "18  2013-2014   26     Champions League               7       7   \n",
       "19  2013-2014   26              La Liga              31      29   \n",
       "20  2014-2015   27     Champions League              13      13   \n",
       "21  2014-2015   27         Copa del Rey               6       6   \n",
       "22  2014-2015   27              La Liga              38      37   \n",
       "23  2015-2016   28     Champions League               7       7   \n",
       "24  2015-2016   28         Copa del Rey               5       5   \n",
       "25  2015-2016   28              La Liga              33      31   \n",
       "26  2015-2016   28  Supercopa de España               2       2   \n",
       "27  2016-2017   29     Champions League               9       9   \n",
       "28  2016-2017   29         Copa del Rey               7       7   \n",
       "29  2016-2017   29              La Liga              34      32   \n",
       "30  2016-2017   29  Supercopa de España               2       2   \n",
       "31  2017-2018   30     Champions League              10       8   \n",
       "32  2017-2018   30         Copa del Rey               6       6   \n",
       "33  2017-2018   30              La Liga              36      32   \n",
       "34  2017-2018   30  Supercopa de España               2       2   \n",
       "35  2018-2019   31     Champions League              10       9   \n",
       "36  2018-2019   31         Copa del Rey               5       4   \n",
       "37  2018-2019   31              La Liga              34      29   \n",
       "38  2018-2019   31  Supercopa de España               1       1   \n",
       "39  2019-2020   32     Champions League               8       7   \n",
       "40  2019-2020   32         Copa del Rey               2       2   \n",
       "41  2019-2020   32              La Liga              33      32   \n",
       "42  2019-2020   32  Supercopa de España               1       1   \n",
       "\n",
       "    Minutes played  Goals scored  Assists  PK  PKatt  CrdY  CrdR  Goal/90  \\\n",
       "0               90             0        0   0      0     0     0     0.00   \n",
       "1               70             1        0   0      0     0     0     1.29   \n",
       "2              322             1        1   0      0     0     0     0.28   \n",
       "3              911             6        3   0      0     2     0     0.59   \n",
       "4              385             1        0   0      0     1     0     0.23   \n",
       "5             1983            14        3   0      0     2     0     0.64   \n",
       "6              728             6        2   1      1     2     0     0.74   \n",
       "7             1973            10       12   4      4     2     0     0.46   \n",
       "8              927             9        5   0      0     1     0     0.87   \n",
       "9             2516            23       11   3      4     2     0     0.82   \n",
       "10             987             8        0   0      0     0     0     0.73   \n",
       "11            2805            34        9   1      1     3     0     1.09   \n",
       "12            1046            12        3   1      2     0     0     1.03   \n",
       "13            2858            31       19   4      4     3     0     0.98   \n",
       "14             990            14        5   4      5     2     0     1.27   \n",
       "15            3270            50       16  10     11     6     0     1.38   \n",
       "16             826             8        2   0      0     0     0     0.87   \n",
       "17            2650            46       11   4      4     1     0     1.56   \n",
       "18             630             8        0   2      2     0     0     1.14   \n",
       "19            2501            28       11   7      8     2     0     1.01   \n",
       "20            1147            10        6   0      1     1     0     0.78   \n",
       "21             540             5        3   1      2     1     0     0.83   \n",
       "22            3375            43       18   5      6     4     0     1.15   \n",
       "23             630             6        1   1      1     1     0     0.86   \n",
       "24             480             5        5   0      0     1     0     0.94   \n",
       "25            2729            26       16   3      6     3     0     0.86   \n",
       "26             180             1        0   0      0     0     0     0.50   \n",
       "27             810            11        2   2      2     0     0     1.22   \n",
       "28             630             5        3   1      1     3     0     0.71   \n",
       "29            2828            37        9   6      7     6     0     1.18   \n",
       "30             180             1        2   0      0     0     0     0.50   \n",
       "31             783             6        2   0      0     2     0     0.69   \n",
       "32             508             4        4   0      1     1     0     0.71   \n",
       "33            3002            34       12   2      4     3     0     1.02   \n",
       "34             180             1        0   1      1     1     0     0.50   \n",
       "35             838            12        3   1      1     0     0     1.29   \n",
       "36             388             3        2   0      0     0     0     0.70   \n",
       "37            2713            36       13   4      5     3     0     1.19   \n",
       "38              90             0        1   0      0     0     0     0.00   \n",
       "39             662             3        3   0      0     2     0     0.41   \n",
       "40             180             2        1   0      0     1     0     1.00   \n",
       "41            2880            25       20   5      5     4     0     0.78   \n",
       "42              90             1        0   0      0     0     0     1.00   \n",
       "\n",
       "    Ast/90  G+A/90  G-PK/90  G+A-PK/90  \n",
       "0     0.00    0.00     0.00       0.00  \n",
       "1     0.00    1.29     1.29       1.29  \n",
       "2     0.28    0.56     0.28       0.56  \n",
       "3     0.30    0.89     0.59       0.89  \n",
       "4     0.00    0.23     0.23       0.23  \n",
       "5     0.14    0.77     0.64       0.77  \n",
       "6     0.25    0.99     0.62       0.87  \n",
       "7     0.55    1.00     0.27       0.82  \n",
       "8     0.49    1.36     0.87       1.36  \n",
       "9     0.39    1.22     0.72       1.11  \n",
       "10    0.00    0.73     0.73       0.73  \n",
       "11    0.29    1.38     1.06       1.35  \n",
       "12    0.26    1.29     0.95       1.20  \n",
       "13    0.60    1.57     0.85       1.45  \n",
       "14    0.45    1.73     0.91       1.36  \n",
       "15    0.44    1.82     1.10       1.54  \n",
       "16    0.22    1.09     0.87       1.09  \n",
       "17    0.37    1.94     1.43       1.80  \n",
       "18    0.00    1.14     0.86       0.86  \n",
       "19    0.40    1.40     0.76       1.15  \n",
       "20    0.47    1.26     0.78       1.26  \n",
       "21    0.50    1.33     0.67       1.17  \n",
       "22    0.48    1.63     1.01       1.49  \n",
       "23    0.14    1.00     0.71       0.86  \n",
       "24    0.94    1.87     0.94       1.87  \n",
       "25    0.53    1.39     0.76       1.29  \n",
       "26    0.00    0.50     0.50       0.50  \n",
       "27    0.22    1.44     1.00       1.22  \n",
       "28    0.43    1.14     0.57       1.00  \n",
       "29    0.29    1.46     0.99       1.27  \n",
       "30    1.00    1.50     0.50       1.50  \n",
       "31    0.23    0.92     0.69       0.92  \n",
       "32    0.71    1.42     0.71       1.42  \n",
       "33    0.36    1.38     0.96       1.32  \n",
       "34    0.00    0.50     0.00       0.00  \n",
       "35    0.32    1.61     1.18       1.50  \n",
       "36    0.46    1.16     0.70       1.16  \n",
       "37    0.43    1.63     1.06       1.49  \n",
       "38    1.00    1.00     0.00       1.00  \n",
       "39    0.41    0.82     0.41       0.82  \n",
       "40    0.50    1.50     1.00       1.50  \n",
       "41    0.62    1.41     0.62       1.25  \n",
       "42    0.00    1.00     1.00       1.00  "
      ]
     },
     "execution_count": 2,
     "metadata": {},
     "output_type": "execute_result"
    }
   ],
   "source": [
    "messi_csv = pd.read_csv('messi_barca.csv', encoding = \"ISO-8859-1\", delimiter=',')  \n",
    "messi_csv"
   ]
  },
  {
   "cell_type": "code",
   "execution_count": 3,
   "metadata": {},
   "outputs": [
    {
     "name": "stdout",
     "output_type": "stream",
     "text": [
      "<class 'pandas.core.frame.DataFrame'>\n",
      "RangeIndex: 43 entries, 0 to 42\n",
      "Data columns (total 17 columns):\n",
      " #   Column          Non-Null Count  Dtype  \n",
      "---  ------          --------------  -----  \n",
      " 0   Season          43 non-null     object \n",
      " 1   Age             43 non-null     int64  \n",
      " 2   Competition     43 non-null     object \n",
      " 3   Matches Played  43 non-null     int64  \n",
      " 4   Starts          43 non-null     int64  \n",
      " 5   Minutes played  43 non-null     int64  \n",
      " 6   Goals scored    43 non-null     int64  \n",
      " 7   Assists         43 non-null     int64  \n",
      " 8   PK              43 non-null     int64  \n",
      " 9   PKatt           43 non-null     int64  \n",
      " 10  CrdY            43 non-null     int64  \n",
      " 11  CrdR            43 non-null     int64  \n",
      " 12  Goal/90         43 non-null     float64\n",
      " 13  Ast/90          43 non-null     float64\n",
      " 14  G+A/90          43 non-null     float64\n",
      " 15  G-PK/90         43 non-null     float64\n",
      " 16  G+A-PK/90       43 non-null     float64\n",
      "dtypes: float64(5), int64(10), object(2)\n",
      "memory usage: 5.8+ KB\n"
     ]
    }
   ],
   "source": [
    "messi_csv.info()"
   ]
  },
  {
   "cell_type": "code",
   "execution_count": 4,
   "metadata": {},
   "outputs": [
    {
     "data": {
      "text/plain": [
       "Index(['Season', 'Age', 'Competition', 'Matches Played', 'Starts',\n",
       "       'Minutes played', 'Goals scored', 'Assists', 'PK', 'PKatt', 'CrdY',\n",
       "       'CrdR', 'Goal/90', 'Ast/90', 'G+A/90', 'G-PK/90', 'G+A-PK/90'],\n",
       "      dtype='object')"
      ]
     },
     "execution_count": 4,
     "metadata": {},
     "output_type": "execute_result"
    }
   ],
   "source": [
    "messi_csv.keys()"
   ]
  },
  {
   "cell_type": "code",
   "execution_count": 5,
   "metadata": {},
   "outputs": [
    {
     "data": {
      "text/plain": [
       "array([ 1,  7,  6, 17,  5, 26,  9, 27, 12, 31, 11, 35, 13, 33, 11, 37, 11,\n",
       "       32,  7, 31, 13,  6, 38,  7,  5, 33,  2,  9,  7, 34,  2, 10,  6, 36,\n",
       "        2, 10,  5, 34,  1,  8,  2, 33,  1])"
      ]
     },
     "execution_count": 5,
     "metadata": {},
     "output_type": "execute_result"
    }
   ],
   "source": [
    "import numpy as np\n",
    "\n",
    "partidos = messi_csv['Matches Played']\n",
    "goles =  messi_csv['Goals scored']\n",
    "\n",
    "x = []\n",
    "for i in partidos:\n",
    "    x.append(i)\n",
    "\n",
    "xn = np.array(x)\n",
    "xn"
   ]
  },
  {
   "cell_type": "code",
   "execution_count": 6,
   "metadata": {},
   "outputs": [
    {
     "data": {
      "image/png": "[encoded data removed]",
      "text/plain": [
       "<Figure size 576x576 with 1 Axes>"
      ]
     },
     "metadata": {
      "needs_background": "light"
     },
     "output_type": "display_data"
    }
   ],
   "source": [
    "x = messi_csv['Matches Played'].to_numpy()\n",
    "y = messi_csv['Goals scored'].to_numpy()\n",
    "\n",
    "plt.figure(figsize=(8,8))\n",
    "plt.scatter(x, y)\n",
    "plt.xlabel('Matches Played')\n",
    "plt.ylabel('Goals scored')\n",
    "plt.show()"
   ]
  },
  {
   "cell_type": "code",
   "execution_count": 7,
   "metadata": {},
   "outputs": [
    {
     "data": {
      "text/plain": [
       "array([0, 1, 0, 1, 0, 1, 0, 1, 0, 1, 0, 1, 0, 1, 0, 1, 0, 1, 0, 1, 0, 2,\n",
       "       1, 0, 2, 1, 3, 0, 2, 1, 3, 0, 2, 1, 3, 0, 2, 1, 3, 0, 2, 1, 3])"
      ]
     },
     "execution_count": 7,
     "metadata": {},
     "output_type": "execute_result"
    }
   ],
   "source": [
    "competiciones = messi_csv['Competition']\n",
    "comp = []\n",
    "for c in competiciones:\n",
    "    if c == 'Champions League':\n",
    "        comp.append(0)\n",
    "    if c == 'La Liga':\n",
    "        comp.append(1)\n",
    "    if c == 'Copa del Rey':\n",
    "        comp.append(2)\n",
    "    if c == 'Supercopa de España':\n",
    "        comp.append(3)\n",
    "        \n",
    "labels = np.array(comp)\n",
    "labels"
   ]
  },
  {
   "cell_type": "code",
   "execution_count": 8,
   "metadata": {},
   "outputs": [
    {
     "data": {
      "text/plain": [
       "array([0, 2, 0, 2, 0, 2, 0, 2, 0, 2, 0, 2, 0, 2, 0, 2, 0, 2, 0, 2, 0, 1,\n",
       "       2, 0, 1, 2, 3, 0, 1, 2, 3, 0, 1, 2, 3, 0, 1, 2, 3, 0, 1, 2, 3],\n",
       "      dtype=int8)"
      ]
     },
     "execution_count": 8,
     "metadata": {},
     "output_type": "execute_result"
    }
   ],
   "source": [
    "labels_test = messi_csv[\"Competition\"].astype(\"category\").cat.codes.to_numpy()\n",
    "labels_test"
   ]
  },
  {
   "cell_type": "code",
   "execution_count": 9,
   "metadata": {},
   "outputs": [
    {
     "data": {
      "image/png": "[encoded data removed]",
      "text/plain": [
       "<Figure size 576x576 with 1 Axes>"
      ]
     },
     "metadata": {
      "needs_background": "light"
     },
     "output_type": "display_data"
    }
   ],
   "source": [
    "plt.figure(figsize=(8,8))\n",
    "plt.scatter(x, y, c=labels, cmap='cool')\n",
    "plt.xlabel('Matches Played')\n",
    "plt.ylabel('Goals scored')\n",
    "plt.show()"
   ]
  },
  {
   "cell_type": "code",
   "execution_count": 10,
   "metadata": {},
   "outputs": [
    {
     "data": {
      "image/png": "[encoded data removed]",
      "text/plain": [
       "<Figure size 432x288 with 1 Axes>"
      ]
     },
     "metadata": {
      "needs_background": "light"
     },
     "output_type": "display_data"
    }
   ],
   "source": [
    "cdict = {0: 'red', 1: 'green', 2: 'blue', 3: 'yellow'}\n",
    "catdict= {0:'Champions League', 1: 'La Liga', 2:'Copa del Rey', 3:'Supercopa de España'}\n",
    "\n",
    "figure, ax = plt.subplots()\n",
    "\n",
    "for g in np.unique(labels):\n",
    "    ix = np.where(g == labels)\n",
    "    ax.scatter(x[ix], y[ix], c = cdict[g], label = catdict[g], s = 25,edgecolor='k')\n",
    "\n",
    "ax.legend()\n",
    "plt.show()"
   ]
  },
  {
   "cell_type": "markdown",
   "metadata": {},
   "source": [
    "Ante la duda sobre que significan alguno de estos items, podemos visitar la [explicacion de las columnas](https://www.kaggle.com/abhijithchandradas/lionel-messi-at-f-c-barcelona/version/1)."
   ]
  },
  {
   "cell_type": "markdown",
   "metadata": {},
   "source": [
    "# Regresion lineal"
   ]
  },
  {
   "cell_type": "code",
   "execution_count": 11,
   "metadata": {},
   "outputs": [],
   "source": [
    "from sklearn.model_selection import train_test_split\n",
    "from sklearn import linear_model\n",
    "import sklearn.metrics as sm\n",
    "import numpy as np"
   ]
  },
  {
   "cell_type": "code",
   "execution_count": 12,
   "metadata": {},
   "outputs": [
    {
     "data": {
      "image/png": "[encoded data removed]",
      "text/plain": [
       "<Figure size 576x576 with 1 Axes>"
      ]
     },
     "metadata": {
      "needs_background": "light"
     },
     "output_type": "display_data"
    }
   ],
   "source": [
    "PK = messi_csv['PK'].to_numpy()\n",
    "PKatt = messi_csv['PKatt'].to_numpy()\n",
    "\n",
    "plt.figure(figsize=(8,8))\n",
    "plt.scatter(PKatt, PK)\n",
    "plt.xlabel('PKatt')\n",
    "plt.ylabel('PK')\n",
    "plt.show()"
   ]
  },
  {
   "cell_type": "code",
   "execution_count": 13,
   "metadata": {},
   "outputs": [],
   "source": [
    "x_train, x_test, y_train, y_test = train_test_split(PKatt, PK, test_size=0.2, random_state=14, shuffle=True)"
   ]
  },
  {
   "cell_type": "code",
   "execution_count": 14,
   "metadata": {},
   "outputs": [
    {
     "data": {
      "image/png": "[encoded data removed]",
      "text/plain": [
       "<Figure size 576x576 with 1 Axes>"
      ]
     },
     "metadata": {
      "needs_background": "light"
     },
     "output_type": "display_data"
    }
   ],
   "source": [
    "plt.figure(figsize=(8,8))\n",
    "plt.scatter(x_train, y_train, c='blue')\n",
    "plt.scatter(x_test, y_test, c='red')\n",
    "plt.xlabel('Penales pateados')\n",
    "plt.ylabel('Penales anotados')\n",
    "plt.show()"
   ]
  },
  {
   "cell_type": "code",
   "execution_count": 15,
   "metadata": {},
   "outputs": [
    {
     "data": {
      "text/plain": [
       "(34,)"
      ]
     },
     "execution_count": 15,
     "metadata": {},
     "output_type": "execute_result"
    }
   ],
   "source": [
    "x_train.shape"
   ]
  },
  {
   "cell_type": "code",
   "execution_count": 16,
   "metadata": {},
   "outputs": [
    {
     "data": {
      "text/plain": [
       "array([1, 0, 1, 0, 2, 0, 0, 0, 4, 8, 2, 0, 1, 0, 7, 4, 0, 4, 0, 1, 0, 1,\n",
       "       0, 1, 6, 0, 0, 0, 1, 0, 4, 6, 2, 0])"
      ]
     },
     "execution_count": 16,
     "metadata": {},
     "output_type": "execute_result"
    }
   ],
   "source": [
    "x_train"
   ]
  },
  {
   "cell_type": "code",
   "execution_count": 17,
   "metadata": {},
   "outputs": [],
   "source": [
    "x_train = x_train.reshape(-1,1)\n",
    "y_train = y_train.reshape(-1,1)"
   ]
  },
  {
   "cell_type": "code",
   "execution_count": 18,
   "metadata": {},
   "outputs": [],
   "source": [
    "x_test = x_test.reshape(-1,1)\n",
    "y_test = y_test.reshape(-1,1)"
   ]
  },
  {
   "cell_type": "code",
   "execution_count": 19,
   "metadata": {},
   "outputs": [
    {
     "data": {
      "text/plain": [
       "(34, 1)"
      ]
     },
     "execution_count": 19,
     "metadata": {},
     "output_type": "execute_result"
    }
   ],
   "source": [
    "x_train.shape"
   ]
  },
  {
   "cell_type": "code",
   "execution_count": 20,
   "metadata": {},
   "outputs": [
    {
     "data": {
      "text/plain": [
       "array([[1],\n",
       "       [0],\n",
       "       [1],\n",
       "       [0],\n",
       "       [2],\n",
       "       [0],\n",
       "       [0],\n",
       "       [0],\n",
       "       [4],\n",
       "       [8],\n",
       "       [2],\n",
       "       [0],\n",
       "       [1],\n",
       "       [0],\n",
       "       [7],\n",
       "       [4],\n",
       "       [0],\n",
       "       [4],\n",
       "       [0],\n",
       "       [1],\n",
       "       [0],\n",
       "       [1],\n",
       "       [0],\n",
       "       [1],\n",
       "       [6],\n",
       "       [0],\n",
       "       [0],\n",
       "       [0],\n",
       "       [1],\n",
       "       [0],\n",
       "       [4],\n",
       "       [6],\n",
       "       [2],\n",
       "       [0]])"
      ]
     },
     "execution_count": 20,
     "metadata": {},
     "output_type": "execute_result"
    }
   ],
   "source": [
    "x_train"
   ]
  },
  {
   "cell_type": "code",
   "execution_count": 21,
   "metadata": {},
   "outputs": [],
   "source": [
    "linear_regressor = linear_model.LinearRegression()"
   ]
  },
  {
   "cell_type": "code",
   "execution_count": 22,
   "metadata": {},
   "outputs": [
    {
     "data": {
      "text/plain": [
       "LinearRegression()"
      ]
     },
     "execution_count": 22,
     "metadata": {},
     "output_type": "execute_result"
    }
   ],
   "source": [
    "linear_regressor.fit(x_train, y_train)"
   ]
  },
  {
   "cell_type": "code",
   "execution_count": 23,
   "metadata": {},
   "outputs": [],
   "source": [
    "y_pred_test = linear_regressor.predict(x_test)"
   ]
  },
  {
   "cell_type": "code",
   "execution_count": 24,
   "metadata": {
    "scrolled": false
   },
   "outputs": [
    {
     "data": {
      "image/png": "[encoded data removed]",
      "text/plain": [
       "<Figure size 576x576 with 1 Axes>"
      ]
     },
     "metadata": {
      "needs_background": "light"
     },
     "output_type": "display_data"
    }
   ],
   "source": [
    "plt.figure(figsize=(8,8))\n",
    "plt.plot(x_test, y_pred_test, c='black')\n",
    "plt.scatter(x_test, y_test, c='red')\n",
    "plt.xlabel('Penales pateados')\n",
    "plt.ylabel('Penales anotados')\n",
    "plt.show()"
   ]
  },
  {
   "cell_type": "code",
   "execution_count": 25,
   "metadata": {},
   "outputs": [],
   "source": [
    "y_pred_train = linear_regressor.predict(x_train)"
   ]
  },
  {
   "cell_type": "code",
   "execution_count": 26,
   "metadata": {},
   "outputs": [
    {
     "data": {
      "image/png": "[encoded data removed]",
      "text/plain": [
       "<Figure size 576x576 with 1 Axes>"
      ]
     },
     "metadata": {
      "needs_background": "light"
     },
     "output_type": "display_data"
    }
   ],
   "source": [
    "plt.figure(figsize=(8,8))\n",
    "plt.plot(x_train, y_pred_train, c='black')\n",
    "plt.scatter(x_train, y_train, c='blue')\n",
    "plt.xlabel('Penales pateados')\n",
    "plt.ylabel('Penales anotados')\n",
    "plt.show()"
   ]
  },
  {
   "cell_type": "markdown",
   "metadata": {},
   "source": [
    "## Error sobre el dataset de validacion"
   ]
  },
  {
   "cell_type": "code",
   "execution_count": 27,
   "metadata": {},
   "outputs": [
    {
     "name": "stdout",
     "output_type": "stream",
     "text": [
      "Error absoluto medio = 0.46\n",
      "Error cuadratico medio = 0.42\n"
     ]
    }
   ],
   "source": [
    "print(\"Error absoluto medio =\", round(sm.mean_absolute_error(y_test, y_pred_test), 2)) \n",
    "print(\"Error cuadratico medio =\", round(sm.mean_squared_error(y_test, y_pred_test), 2))"
   ]
  },
  {
   "cell_type": "markdown",
   "metadata": {},
   "source": [
    "## Error sobre el dataset de entrenamiento"
   ]
  },
  {
   "cell_type": "code",
   "execution_count": 28,
   "metadata": {},
   "outputs": [
    {
     "name": "stdout",
     "output_type": "stream",
     "text": [
      "Error absoluto medio = 0.33\n",
      "Error cuadratico medio = 0.26\n"
     ]
    }
   ],
   "source": [
    "print(\"Error absoluto medio =\", round(sm.mean_absolute_error(y_train, y_pred_train), 2)) \n",
    "print(\"Error cuadratico medio =\", round(sm.mean_squared_error(y_train, y_pred_train), 2))"
   ]
  },
  {
   "cell_type": "markdown",
   "metadata": {},
   "source": [
    "# Regresion logistica"
   ]
  },
  {
   "cell_type": "code",
   "execution_count": 29,
   "metadata": {},
   "outputs": [],
   "source": [
    "assists = messi_csv['Assists'].to_numpy()\n",
    "goals_scored = messi_csv['Goals scored'].to_numpy()"
   ]
  },
  {
   "cell_type": "code",
   "execution_count": 30,
   "metadata": {},
   "outputs": [
    {
     "data": {
      "image/png": "[encoded data removed]",
      "text/plain": [
       "<Figure size 576x576 with 1 Axes>"
      ]
     },
     "metadata": {
      "needs_background": "light"
     },
     "output_type": "display_data"
    }
   ],
   "source": [
    "plt.figure(figsize=(8,8))\n",
    "plt.scatter(assists, goals_scored)\n",
    "plt.xlabel('Assists')\n",
    "plt.ylabel('Goals Scored')\n",
    "plt.show()"
   ]
  },
  {
   "cell_type": "code",
   "execution_count": 31,
   "metadata": {},
   "outputs": [
    {
     "data": {
      "image/png": "[encoded data removed]",
      "text/plain": [
       "<Figure size 432x288 with 1 Axes>"
      ]
     },
     "metadata": {
      "needs_background": "light"
     },
     "output_type": "display_data"
    }
   ],
   "source": [
    "cdict = {0: 'red', 1: 'green', 2: 'blue', 3: 'yellow'}\n",
    "catdict= {0:'Champions League', 1: 'La Liga', 2:'Copa del Rey', 3:'Supercopa de España'}\n",
    "\n",
    "figure, ax = plt.subplots()\n",
    "\n",
    "for g in np.unique(labels):\n",
    "    ix = np.where(g == labels)\n",
    "    ax.scatter(assists[ix], goals_scored[ix], c = cdict[g], label = catdict[g], s = 25,edgecolor='k')\n",
    "\n",
    "ax.legend()\n",
    "plt.show()"
   ]
  },
  {
   "cell_type": "code",
   "execution_count": 32,
   "metadata": {},
   "outputs": [],
   "source": [
    "Y = np.array(messi_csv['Assists']>7.5)"
   ]
  },
  {
   "cell_type": "code",
   "execution_count": 33,
   "metadata": {},
   "outputs": [
    {
     "data": {
      "text/plain": [
       "array([False, False, False, False, False, False, False,  True, False,\n",
       "        True, False,  True, False,  True, False,  True, False,  True,\n",
       "       False,  True, False, False,  True, False, False,  True, False,\n",
       "       False, False,  True, False, False, False,  True, False, False,\n",
       "       False,  True, False, False, False,  True, False])"
      ]
     },
     "execution_count": 33,
     "metadata": {},
     "output_type": "execute_result"
    }
   ],
   "source": [
    "Y"
   ]
  },
  {
   "cell_type": "code",
   "execution_count": 34,
   "metadata": {},
   "outputs": [],
   "source": [
    "Y = Y.astype(int)"
   ]
  },
  {
   "cell_type": "code",
   "execution_count": 35,
   "metadata": {},
   "outputs": [
    {
     "data": {
      "text/plain": [
       "array([0, 0, 0, 0, 0, 0, 0, 1, 0, 1, 0, 1, 0, 1, 0, 1, 0, 1, 0, 1, 0, 0,\n",
       "       1, 0, 0, 1, 0, 0, 0, 1, 0, 0, 0, 1, 0, 0, 0, 1, 0, 0, 0, 1, 0])"
      ]
     },
     "execution_count": 35,
     "metadata": {},
     "output_type": "execute_result"
    }
   ],
   "source": [
    "Y"
   ]
  },
  {
   "cell_type": "code",
   "execution_count": 36,
   "metadata": {},
   "outputs": [
    {
     "data": {
      "image/png": "[encoded data removed]",
      "text/plain": [
       "<Figure size 576x576 with 1 Axes>"
      ]
     },
     "metadata": {
      "needs_background": "light"
     },
     "output_type": "display_data"
    }
   ],
   "source": [
    "plt.figure(figsize=(8,8))\n",
    "plt.scatter(assists, goals_scored, c=Y)\n",
    "plt.xlabel('Assists')\n",
    "plt.ylabel('Goals scored')\n",
    "plt.show()"
   ]
  },
  {
   "cell_type": "code",
   "execution_count": 37,
   "metadata": {},
   "outputs": [],
   "source": [
    "X = np.array(messi_csv[['Assists', 'Goals scored']])"
   ]
  },
  {
   "cell_type": "code",
   "execution_count": 38,
   "metadata": {},
   "outputs": [
    {
     "data": {
      "text/plain": [
       "array([[ 0,  0],\n",
       "       [ 0,  1],\n",
       "       [ 1,  1],\n",
       "       [ 3,  6],\n",
       "       [ 0,  1],\n",
       "       [ 3, 14],\n",
       "       [ 2,  6],\n",
       "       [12, 10],\n",
       "       [ 5,  9],\n",
       "       [11, 23],\n",
       "       [ 0,  8],\n",
       "       [ 9, 34],\n",
       "       [ 3, 12],\n",
       "       [19, 31],\n",
       "       [ 5, 14],\n",
       "       [16, 50],\n",
       "       [ 2,  8],\n",
       "       [11, 46],\n",
       "       [ 0,  8],\n",
       "       [11, 28],\n",
       "       [ 6, 10],\n",
       "       [ 3,  5],\n",
       "       [18, 43],\n",
       "       [ 1,  6],\n",
       "       [ 5,  5],\n",
       "       [16, 26],\n",
       "       [ 0,  1],\n",
       "       [ 2, 11],\n",
       "       [ 3,  5],\n",
       "       [ 9, 37],\n",
       "       [ 2,  1],\n",
       "       [ 2,  6],\n",
       "       [ 4,  4],\n",
       "       [12, 34],\n",
       "       [ 0,  1],\n",
       "       [ 3, 12],\n",
       "       [ 2,  3],\n",
       "       [13, 36],\n",
       "       [ 1,  0],\n",
       "       [ 3,  3],\n",
       "       [ 1,  2],\n",
       "       [20, 25],\n",
       "       [ 0,  1]])"
      ]
     },
     "execution_count": 38,
     "metadata": {},
     "output_type": "execute_result"
    }
   ],
   "source": [
    "X"
   ]
  },
  {
   "cell_type": "code",
   "execution_count": 39,
   "metadata": {},
   "outputs": [],
   "source": [
    "x_train, x_test, y_train, y_test = train_test_split(X, Y, test_size=0.2, random_state=14, shuffle=True)"
   ]
  },
  {
   "cell_type": "code",
   "execution_count": 40,
   "metadata": {},
   "outputs": [
    {
     "data": {
      "image/png": "[encoded data removed]",
      "text/plain": [
       "<Figure size 576x576 with 1 Axes>"
      ]
     },
     "metadata": {
      "needs_background": "light"
     },
     "output_type": "display_data"
    }
   ],
   "source": [
    "plt.figure(figsize=(8,8))\n",
    "plt.scatter(x_train[:,0], x_train[:,1], c='blue')\n",
    "plt.scatter(x_test[:,0], x_test[:,1], c='red')\n",
    "plt.xlabel('Assists')\n",
    "plt.ylabel('Goals scored')\n",
    "plt.show()"
   ]
  },
  {
   "cell_type": "code",
   "execution_count": 41,
   "metadata": {},
   "outputs": [],
   "source": [
    "clasificador = linear_model.LogisticRegression()"
   ]
  },
  {
   "cell_type": "code",
   "execution_count": 42,
   "metadata": {},
   "outputs": [
    {
     "data": {
      "text/plain": [
       "LogisticRegression()"
      ]
     },
     "execution_count": 42,
     "metadata": {},
     "output_type": "execute_result"
    }
   ],
   "source": [
    "clasificador.fit(x_train, y_train)"
   ]
  },
  {
   "cell_type": "code",
   "execution_count": 43,
   "metadata": {},
   "outputs": [],
   "source": [
    "y_pred_test = clasificador.predict(x_test)"
   ]
  },
  {
   "cell_type": "code",
   "execution_count": 44,
   "metadata": {},
   "outputs": [
    {
     "data": {
      "text/plain": [
       "array([1, 0, 0, 1, 0, 0, 0, 1, 1])"
      ]
     },
     "execution_count": 44,
     "metadata": {},
     "output_type": "execute_result"
    }
   ],
   "source": [
    "y_test"
   ]
  },
  {
   "cell_type": "code",
   "execution_count": 45,
   "metadata": {
    "scrolled": true
   },
   "outputs": [
    {
     "data": {
      "text/plain": [
       "array([1, 0, 0, 1, 0, 0, 0, 1, 1])"
      ]
     },
     "execution_count": 45,
     "metadata": {},
     "output_type": "execute_result"
    }
   ],
   "source": [
    "y_pred_test"
   ]
  },
  {
   "cell_type": "code",
   "execution_count": 46,
   "metadata": {
    "scrolled": false
   },
   "outputs": [
    {
     "data": {
      "image/png": "[encoded data removed]",
      "text/plain": [
       "<Figure size 576x576 with 1 Axes>"
      ]
     },
     "metadata": {
      "needs_background": "light"
     },
     "output_type": "display_data"
    }
   ],
   "source": [
    "# Plot the decision boundary. For that, we will assign a color to each\n",
    "# point in the mesh [x_min, x_max]x[y_min, y_max].\n",
    "x_min, x_max = X[:, 0].min() - 0.5,  X[:, 0].max() + 0.5\n",
    "y_min, y_max =  X[:, 1].min() - 0.5,  X[:, 1].max() + 0.5\n",
    "h = 0.1  # step size in the mesh\n",
    "xx, yy = np.meshgrid(np.arange(x_min, x_max, h), np.arange(y_min, y_max, h))\n",
    "Z = clasificador.predict(np.c_[xx.ravel(), yy.ravel()])\n",
    "\n",
    "# Put the result into a color plot\n",
    "Z = Z.reshape(xx.shape)\n",
    "plt.figure(figsize=(8,8))\n",
    "# plt.figure()\n",
    "plt.pcolormesh(xx, yy, Z, cmap = \"PuRd\", shading ='auto')\n",
    "\n",
    "# Plot also the training points\n",
    "plt.scatter(x_train[:, 0], x_train[:, 1], c=y_train, edgecolors=\"k\", cmap=\"PuRd\",label='Training Points')\n",
    "# Plot also the testing points\n",
    "plt.scatter(x_test[:, 0], x_test[:, 1], c=y_pred_test, edgecolors=\"k\", cmap=\"PuRd\",marker=\"^\",label='Test Points')\n",
    "plt.legend(loc=\"upper left\")\n",
    "plt.xlabel(\"Assists\")\n",
    "plt.ylabel(\"Goals Scored\")\n",
    "plt.show()"
   ]
  },
  {
   "cell_type": "markdown",
   "metadata": {},
   "source": [
    "# Validacion cruzada con K-folds"
   ]
  },
  {
   "cell_type": "code",
   "execution_count": 47,
   "metadata": {},
   "outputs": [],
   "source": [
    "from sklearn.model_selection import KFold"
   ]
  },
  {
   "cell_type": "code",
   "execution_count": 48,
   "metadata": {},
   "outputs": [],
   "source": [
    "Y = Y.reshape(-1,1)"
   ]
  },
  {
   "cell_type": "code",
   "execution_count": 49,
   "metadata": {},
   "outputs": [],
   "source": [
    "dataset = np.hstack((X, Y))"
   ]
  },
  {
   "cell_type": "code",
   "execution_count": 50,
   "metadata": {},
   "outputs": [
    {
     "data": {
      "text/plain": [
       "(43, 3)"
      ]
     },
     "execution_count": 50,
     "metadata": {},
     "output_type": "execute_result"
    }
   ],
   "source": [
    "dataset.shape"
   ]
  },
  {
   "cell_type": "code",
   "execution_count": 51,
   "metadata": {},
   "outputs": [
    {
     "name": "stdout",
     "output_type": "stream",
     "text": [
      "1.0\n",
      "0.8888888888888888\n",
      "1.0\n",
      "1.0\n",
      "1.0\n"
     ]
    }
   ],
   "source": [
    "kfolds = KFold(n_splits=5, shuffle=True, random_state=None)\n",
    "\n",
    "for i, (train_index, test_index) in enumerate(kfolds.split(X)):\n",
    "    x_train, x_test = dataset[train_index, 0:2], dataset[test_index, 0:2]\n",
    "    y_train, y_test = dataset[train_index, 2], dataset[test_index, 2]\n",
    "    clasificador.fit(x_train, y_train)\n",
    "    print(clasificador.score(x_test, y_test))"
   ]
  }
 ],
 "metadata": {
  "kernelspec": {
   "display_name": "Python 3",
   "language": "python",
   "name": "python3"
  },
  "language_info": {
   "codemirror_mode": {
    "name": "ipython",
    "version": 3
   },
   "file_extension": ".py",
   "mimetype": "text/x-python",
   "name": "python",
   "nbconvert_exporter": "python",
   "pygments_lexer": "ipython3",
   "version": "3.8.2"
  }
 },
 "nbformat": 4,
 "nbformat_minor": 4
}
