{
 "cells": [
  {
   "cell_type": "code",
   "execution_count": 1,
   "id": "f8fa2f95",
   "metadata": {},
   "outputs": [],
   "source": [
    "#Importamos las librerias"
   ]
  },
  {
   "cell_type": "code",
   "execution_count": 2,
   "id": "3b6eb15d",
   "metadata": {},
   "outputs": [],
   "source": [
    "from sklearn.datasets import load_wine #Contiene el dataset\n",
    "import pandas as pd\n",
    "import numpy as np\n",
    "import matplotlib.pyplot as plt"
   ]
  },
  {
   "cell_type": "code",
   "execution_count": 3,
   "id": "953c39a8",
   "metadata": {
    "scrolled": true
   },
   "outputs": [
    {
     "data": {
      "text/html": [
       "<div>\n",
       "<style scoped>\n",
       "    .dataframe tbody tr th:only-of-type {\n",
       "        vertical-align: middle;\n",
       "    }\n",
       "\n",
       "    .dataframe tbody tr th {\n",
       "        vertical-align: top;\n",
       "    }\n",
       "\n",
       "    .dataframe thead th {\n",
       "        text-align: right;\n",
       "    }\n",
       "</style>\n",
       "<table border=\"1\" class=\"dataframe\">\n",
       "  <thead>\n",
       "    <tr style=\"text-align: right;\">\n",
       "      <th></th>\n",
       "      <th>alcohol</th>\n",
       "      <th>malic_acid</th>\n",
       "      <th>ash</th>\n",
       "      <th>alcalinity_of_ash</th>\n",
       "      <th>magnesium</th>\n",
       "      <th>total_phenols</th>\n",
       "      <th>flavanoids</th>\n",
       "      <th>nonflavanoid_phenols</th>\n",
       "      <th>proanthocyanins</th>\n",
       "      <th>color_intensity</th>\n",
       "      <th>hue</th>\n",
       "      <th>od280/od315_of_diluted_wines</th>\n",
       "      <th>proline</th>\n",
       "      <th>target</th>\n",
       "    </tr>\n",
       "  </thead>\n",
       "  <tbody>\n",
       "    <tr>\n",
       "      <th>0</th>\n",
       "      <td>14.23</td>\n",
       "      <td>1.71</td>\n",
       "      <td>2.43</td>\n",
       "      <td>15.6</td>\n",
       "      <td>127.0</td>\n",
       "      <td>2.80</td>\n",
       "      <td>3.06</td>\n",
       "      <td>0.28</td>\n",
       "      <td>2.29</td>\n",
       "      <td>5.64</td>\n",
       "      <td>1.04</td>\n",
       "      <td>3.92</td>\n",
       "      <td>1065.0</td>\n",
       "      <td>0.0</td>\n",
       "    </tr>\n",
       "    <tr>\n",
       "      <th>1</th>\n",
       "      <td>13.20</td>\n",
       "      <td>1.78</td>\n",
       "      <td>2.14</td>\n",
       "      <td>11.2</td>\n",
       "      <td>100.0</td>\n",
       "      <td>2.65</td>\n",
       "      <td>2.76</td>\n",
       "      <td>0.26</td>\n",
       "      <td>1.28</td>\n",
       "      <td>4.38</td>\n",
       "      <td>1.05</td>\n",
       "      <td>3.40</td>\n",
       "      <td>1050.0</td>\n",
       "      <td>0.0</td>\n",
       "    </tr>\n",
       "    <tr>\n",
       "      <th>2</th>\n",
       "      <td>13.16</td>\n",
       "      <td>2.36</td>\n",
       "      <td>2.67</td>\n",
       "      <td>18.6</td>\n",
       "      <td>101.0</td>\n",
       "      <td>2.80</td>\n",
       "      <td>3.24</td>\n",
       "      <td>0.30</td>\n",
       "      <td>2.81</td>\n",
       "      <td>5.68</td>\n",
       "      <td>1.03</td>\n",
       "      <td>3.17</td>\n",
       "      <td>1185.0</td>\n",
       "      <td>0.0</td>\n",
       "    </tr>\n",
       "    <tr>\n",
       "      <th>3</th>\n",
       "      <td>14.37</td>\n",
       "      <td>1.95</td>\n",
       "      <td>2.50</td>\n",
       "      <td>16.8</td>\n",
       "      <td>113.0</td>\n",
       "      <td>3.85</td>\n",
       "      <td>3.49</td>\n",
       "      <td>0.24</td>\n",
       "      <td>2.18</td>\n",
       "      <td>7.80</td>\n",
       "      <td>0.86</td>\n",
       "      <td>3.45</td>\n",
       "      <td>1480.0</td>\n",
       "      <td>0.0</td>\n",
       "    </tr>\n",
       "    <tr>\n",
       "      <th>4</th>\n",
       "      <td>13.24</td>\n",
       "      <td>2.59</td>\n",
       "      <td>2.87</td>\n",
       "      <td>21.0</td>\n",
       "      <td>118.0</td>\n",
       "      <td>2.80</td>\n",
       "      <td>2.69</td>\n",
       "      <td>0.39</td>\n",
       "      <td>1.82</td>\n",
       "      <td>4.32</td>\n",
       "      <td>1.04</td>\n",
       "      <td>2.93</td>\n",
       "      <td>735.0</td>\n",
       "      <td>0.0</td>\n",
       "    </tr>\n",
       "    <tr>\n",
       "      <th>...</th>\n",
       "      <td>...</td>\n",
       "      <td>...</td>\n",
       "      <td>...</td>\n",
       "      <td>...</td>\n",
       "      <td>...</td>\n",
       "      <td>...</td>\n",
       "      <td>...</td>\n",
       "      <td>...</td>\n",
       "      <td>...</td>\n",
       "      <td>...</td>\n",
       "      <td>...</td>\n",
       "      <td>...</td>\n",
       "      <td>...</td>\n",
       "      <td>...</td>\n",
       "    </tr>\n",
       "    <tr>\n",
       "      <th>173</th>\n",
       "      <td>13.71</td>\n",
       "      <td>5.65</td>\n",
       "      <td>2.45</td>\n",
       "      <td>20.5</td>\n",
       "      <td>95.0</td>\n",
       "      <td>1.68</td>\n",
       "      <td>0.61</td>\n",
       "      <td>0.52</td>\n",
       "      <td>1.06</td>\n",
       "      <td>7.70</td>\n",
       "      <td>0.64</td>\n",
       "      <td>1.74</td>\n",
       "      <td>740.0</td>\n",
       "      <td>2.0</td>\n",
       "    </tr>\n",
       "    <tr>\n",
       "      <th>174</th>\n",
       "      <td>13.40</td>\n",
       "      <td>3.91</td>\n",
       "      <td>2.48</td>\n",
       "      <td>23.0</td>\n",
       "      <td>102.0</td>\n",
       "      <td>1.80</td>\n",
       "      <td>0.75</td>\n",
       "      <td>0.43</td>\n",
       "      <td>1.41</td>\n",
       "      <td>7.30</td>\n",
       "      <td>0.70</td>\n",
       "      <td>1.56</td>\n",
       "      <td>750.0</td>\n",
       "      <td>2.0</td>\n",
       "    </tr>\n",
       "    <tr>\n",
       "      <th>175</th>\n",
       "      <td>13.27</td>\n",
       "      <td>4.28</td>\n",
       "      <td>2.26</td>\n",
       "      <td>20.0</td>\n",
       "      <td>120.0</td>\n",
       "      <td>1.59</td>\n",
       "      <td>0.69</td>\n",
       "      <td>0.43</td>\n",
       "      <td>1.35</td>\n",
       "      <td>10.20</td>\n",
       "      <td>0.59</td>\n",
       "      <td>1.56</td>\n",
       "      <td>835.0</td>\n",
       "      <td>2.0</td>\n",
       "    </tr>\n",
       "    <tr>\n",
       "      <th>176</th>\n",
       "      <td>13.17</td>\n",
       "      <td>2.59</td>\n",
       "      <td>2.37</td>\n",
       "      <td>20.0</td>\n",
       "      <td>120.0</td>\n",
       "      <td>1.65</td>\n",
       "      <td>0.68</td>\n",
       "      <td>0.53</td>\n",
       "      <td>1.46</td>\n",
       "      <td>9.30</td>\n",
       "      <td>0.60</td>\n",
       "      <td>1.62</td>\n",
       "      <td>840.0</td>\n",
       "      <td>2.0</td>\n",
       "    </tr>\n",
       "    <tr>\n",
       "      <th>177</th>\n",
       "      <td>14.13</td>\n",
       "      <td>4.10</td>\n",
       "      <td>2.74</td>\n",
       "      <td>24.5</td>\n",
       "      <td>96.0</td>\n",
       "      <td>2.05</td>\n",
       "      <td>0.76</td>\n",
       "      <td>0.56</td>\n",
       "      <td>1.35</td>\n",
       "      <td>9.20</td>\n",
       "      <td>0.61</td>\n",
       "      <td>1.60</td>\n",
       "      <td>560.0</td>\n",
       "      <td>2.0</td>\n",
       "    </tr>\n",
       "  </tbody>\n",
       "</table>\n",
       "<p>178 rows × 14 columns</p>\n",
       "</div>"
      ],
      "text/plain": [
       "     alcohol  malic_acid   ash  alcalinity_of_ash  magnesium  total_phenols  \\\n",
       "0      14.23        1.71  2.43               15.6      127.0           2.80   \n",
       "1      13.20        1.78  2.14               11.2      100.0           2.65   \n",
       "2      13.16        2.36  2.67               18.6      101.0           2.80   \n",
       "3      14.37        1.95  2.50               16.8      113.0           3.85   \n",
       "4      13.24        2.59  2.87               21.0      118.0           2.80   \n",
       "..       ...         ...   ...                ...        ...            ...   \n",
       "173    13.71        5.65  2.45               20.5       95.0           1.68   \n",
       "174    13.40        3.91  2.48               23.0      102.0           1.80   \n",
       "175    13.27        4.28  2.26               20.0      120.0           1.59   \n",
       "176    13.17        2.59  2.37               20.0      120.0           1.65   \n",
       "177    14.13        4.10  2.74               24.5       96.0           2.05   \n",
       "\n",
       "     flavanoids  nonflavanoid_phenols  proanthocyanins  color_intensity   hue  \\\n",
       "0          3.06                  0.28             2.29             5.64  1.04   \n",
       "1          2.76                  0.26             1.28             4.38  1.05   \n",
       "2          3.24                  0.30             2.81             5.68  1.03   \n",
       "3          3.49                  0.24             2.18             7.80  0.86   \n",
       "4          2.69                  0.39             1.82             4.32  1.04   \n",
       "..          ...                   ...              ...              ...   ...   \n",
       "173        0.61                  0.52             1.06             7.70  0.64   \n",
       "174        0.75                  0.43             1.41             7.30  0.70   \n",
       "175        0.69                  0.43             1.35            10.20  0.59   \n",
       "176        0.68                  0.53             1.46             9.30  0.60   \n",
       "177        0.76                  0.56             1.35             9.20  0.61   \n",
       "\n",
       "     od280/od315_of_diluted_wines  proline  target  \n",
       "0                            3.92   1065.0     0.0  \n",
       "1                            3.40   1050.0     0.0  \n",
       "2                            3.17   1185.0     0.0  \n",
       "3                            3.45   1480.0     0.0  \n",
       "4                            2.93    735.0     0.0  \n",
       "..                            ...      ...     ...  \n",
       "173                          1.74    740.0     2.0  \n",
       "174                          1.56    750.0     2.0  \n",
       "175                          1.56    835.0     2.0  \n",
       "176                          1.62    840.0     2.0  \n",
       "177                          1.60    560.0     2.0  \n",
       "\n",
       "[178 rows x 14 columns]"
      ]
     },
     "execution_count": 3,
     "metadata": {},
     "output_type": "execute_result"
    }
   ],
   "source": [
    "#Guardo el dataset en el objeto wine\n",
    "wine = load_wine(as_frame=True)\n",
    "\n",
    "#Convierto el frame de sklearn en un dataframe pandas\n",
    "dataset = pd.DataFrame(data= np.c_[wine['data'], wine['target']],\n",
    "                     columns= wine['feature_names'] + ['target'])\n",
    "\n",
    "dataset"
   ]
  },
  {
   "cell_type": "code",
   "execution_count": 4,
   "id": "c47a8286",
   "metadata": {
    "scrolled": true
   },
   "outputs": [
    {
     "name": "stdout",
     "output_type": "stream",
     "text": [
      "Index(['alcohol', 'malic_acid', 'ash', 'alcalinity_of_ash', 'magnesium',\n",
      "       'total_phenols', 'flavanoids', 'nonflavanoid_phenols',\n",
      "       'proanthocyanins', 'color_intensity', 'hue',\n",
      "       'od280/od315_of_diluted_wines', 'proline', 'target'],\n",
      "      dtype='object')\n"
     ]
    },
    {
     "data": {
      "text/html": [
       "<div>\n",
       "<style scoped>\n",
       "    .dataframe tbody tr th:only-of-type {\n",
       "        vertical-align: middle;\n",
       "    }\n",
       "\n",
       "    .dataframe tbody tr th {\n",
       "        vertical-align: top;\n",
       "    }\n",
       "\n",
       "    .dataframe thead th {\n",
       "        text-align: right;\n",
       "    }\n",
       "</style>\n",
       "<table border=\"1\" class=\"dataframe\">\n",
       "  <thead>\n",
       "    <tr style=\"text-align: right;\">\n",
       "      <th></th>\n",
       "      <th>alcohol</th>\n",
       "      <th>malic_acid</th>\n",
       "      <th>ash</th>\n",
       "      <th>alcalinity_of_ash</th>\n",
       "      <th>magnesium</th>\n",
       "      <th>total_phenols</th>\n",
       "      <th>flavanoids</th>\n",
       "      <th>nonflavanoid_phenols</th>\n",
       "      <th>proanthocyanins</th>\n",
       "      <th>color_intensity</th>\n",
       "      <th>hue</th>\n",
       "      <th>od280/od315_of_diluted_wines</th>\n",
       "      <th>proline</th>\n",
       "      <th>target</th>\n",
       "    </tr>\n",
       "  </thead>\n",
       "  <tbody>\n",
       "    <tr>\n",
       "      <th>count</th>\n",
       "      <td>178.000000</td>\n",
       "      <td>178.000000</td>\n",
       "      <td>178.000000</td>\n",
       "      <td>178.000000</td>\n",
       "      <td>178.000000</td>\n",
       "      <td>178.000000</td>\n",
       "      <td>178.000000</td>\n",
       "      <td>178.000000</td>\n",
       "      <td>178.000000</td>\n",
       "      <td>178.000000</td>\n",
       "      <td>178.000000</td>\n",
       "      <td>178.000000</td>\n",
       "      <td>178.000000</td>\n",
       "      <td>178.000000</td>\n",
       "    </tr>\n",
       "    <tr>\n",
       "      <th>mean</th>\n",
       "      <td>13.000618</td>\n",
       "      <td>2.336348</td>\n",
       "      <td>2.366517</td>\n",
       "      <td>19.494944</td>\n",
       "      <td>99.741573</td>\n",
       "      <td>2.295112</td>\n",
       "      <td>2.029270</td>\n",
       "      <td>0.361854</td>\n",
       "      <td>1.590899</td>\n",
       "      <td>5.058090</td>\n",
       "      <td>0.957449</td>\n",
       "      <td>2.611685</td>\n",
       "      <td>746.893258</td>\n",
       "      <td>0.938202</td>\n",
       "    </tr>\n",
       "    <tr>\n",
       "      <th>std</th>\n",
       "      <td>0.811827</td>\n",
       "      <td>1.117146</td>\n",
       "      <td>0.274344</td>\n",
       "      <td>3.339564</td>\n",
       "      <td>14.282484</td>\n",
       "      <td>0.625851</td>\n",
       "      <td>0.998859</td>\n",
       "      <td>0.124453</td>\n",
       "      <td>0.572359</td>\n",
       "      <td>2.318286</td>\n",
       "      <td>0.228572</td>\n",
       "      <td>0.709990</td>\n",
       "      <td>314.907474</td>\n",
       "      <td>0.775035</td>\n",
       "    </tr>\n",
       "    <tr>\n",
       "      <th>min</th>\n",
       "      <td>11.030000</td>\n",
       "      <td>0.740000</td>\n",
       "      <td>1.360000</td>\n",
       "      <td>10.600000</td>\n",
       "      <td>70.000000</td>\n",
       "      <td>0.980000</td>\n",
       "      <td>0.340000</td>\n",
       "      <td>0.130000</td>\n",
       "      <td>0.410000</td>\n",
       "      <td>1.280000</td>\n",
       "      <td>0.480000</td>\n",
       "      <td>1.270000</td>\n",
       "      <td>278.000000</td>\n",
       "      <td>0.000000</td>\n",
       "    </tr>\n",
       "    <tr>\n",
       "      <th>25%</th>\n",
       "      <td>12.362500</td>\n",
       "      <td>1.602500</td>\n",
       "      <td>2.210000</td>\n",
       "      <td>17.200000</td>\n",
       "      <td>88.000000</td>\n",
       "      <td>1.742500</td>\n",
       "      <td>1.205000</td>\n",
       "      <td>0.270000</td>\n",
       "      <td>1.250000</td>\n",
       "      <td>3.220000</td>\n",
       "      <td>0.782500</td>\n",
       "      <td>1.937500</td>\n",
       "      <td>500.500000</td>\n",
       "      <td>0.000000</td>\n",
       "    </tr>\n",
       "    <tr>\n",
       "      <th>50%</th>\n",
       "      <td>13.050000</td>\n",
       "      <td>1.865000</td>\n",
       "      <td>2.360000</td>\n",
       "      <td>19.500000</td>\n",
       "      <td>98.000000</td>\n",
       "      <td>2.355000</td>\n",
       "      <td>2.135000</td>\n",
       "      <td>0.340000</td>\n",
       "      <td>1.555000</td>\n",
       "      <td>4.690000</td>\n",
       "      <td>0.965000</td>\n",
       "      <td>2.780000</td>\n",
       "      <td>673.500000</td>\n",
       "      <td>1.000000</td>\n",
       "    </tr>\n",
       "    <tr>\n",
       "      <th>75%</th>\n",
       "      <td>13.677500</td>\n",
       "      <td>3.082500</td>\n",
       "      <td>2.557500</td>\n",
       "      <td>21.500000</td>\n",
       "      <td>107.000000</td>\n",
       "      <td>2.800000</td>\n",
       "      <td>2.875000</td>\n",
       "      <td>0.437500</td>\n",
       "      <td>1.950000</td>\n",
       "      <td>6.200000</td>\n",
       "      <td>1.120000</td>\n",
       "      <td>3.170000</td>\n",
       "      <td>985.000000</td>\n",
       "      <td>2.000000</td>\n",
       "    </tr>\n",
       "    <tr>\n",
       "      <th>max</th>\n",
       "      <td>14.830000</td>\n",
       "      <td>5.800000</td>\n",
       "      <td>3.230000</td>\n",
       "      <td>30.000000</td>\n",
       "      <td>162.000000</td>\n",
       "      <td>3.880000</td>\n",
       "      <td>5.080000</td>\n",
       "      <td>0.660000</td>\n",
       "      <td>3.580000</td>\n",
       "      <td>13.000000</td>\n",
       "      <td>1.710000</td>\n",
       "      <td>4.000000</td>\n",
       "      <td>1680.000000</td>\n",
       "      <td>2.000000</td>\n",
       "    </tr>\n",
       "  </tbody>\n",
       "</table>\n",
       "</div>"
      ],
      "text/plain": [
       "          alcohol  malic_acid         ash  alcalinity_of_ash   magnesium  \\\n",
       "count  178.000000  178.000000  178.000000         178.000000  178.000000   \n",
       "mean    13.000618    2.336348    2.366517          19.494944   99.741573   \n",
       "std      0.811827    1.117146    0.274344           3.339564   14.282484   \n",
       "min     11.030000    0.740000    1.360000          10.600000   70.000000   \n",
       "25%     12.362500    1.602500    2.210000          17.200000   88.000000   \n",
       "50%     13.050000    1.865000    2.360000          19.500000   98.000000   \n",
       "75%     13.677500    3.082500    2.557500          21.500000  107.000000   \n",
       "max     14.830000    5.800000    3.230000          30.000000  162.000000   \n",
       "\n",
       "       total_phenols  flavanoids  nonflavanoid_phenols  proanthocyanins  \\\n",
       "count     178.000000  178.000000            178.000000       178.000000   \n",
       "mean        2.295112    2.029270              0.361854         1.590899   \n",
       "std         0.625851    0.998859              0.124453         0.572359   \n",
       "min         0.980000    0.340000              0.130000         0.410000   \n",
       "25%         1.742500    1.205000              0.270000         1.250000   \n",
       "50%         2.355000    2.135000              0.340000         1.555000   \n",
       "75%         2.800000    2.875000              0.437500         1.950000   \n",
       "max         3.880000    5.080000              0.660000         3.580000   \n",
       "\n",
       "       color_intensity         hue  od280/od315_of_diluted_wines      proline  \\\n",
       "count       178.000000  178.000000                    178.000000   178.000000   \n",
       "mean          5.058090    0.957449                      2.611685   746.893258   \n",
       "std           2.318286    0.228572                      0.709990   314.907474   \n",
       "min           1.280000    0.480000                      1.270000   278.000000   \n",
       "25%           3.220000    0.782500                      1.937500   500.500000   \n",
       "50%           4.690000    0.965000                      2.780000   673.500000   \n",
       "75%           6.200000    1.120000                      3.170000   985.000000   \n",
       "max          13.000000    1.710000                      4.000000  1680.000000   \n",
       "\n",
       "           target  \n",
       "count  178.000000  \n",
       "mean     0.938202  \n",
       "std      0.775035  \n",
       "min      0.000000  \n",
       "25%      0.000000  \n",
       "50%      1.000000  \n",
       "75%      2.000000  \n",
       "max      2.000000  "
      ]
     },
     "execution_count": 4,
     "metadata": {},
     "output_type": "execute_result"
    }
   ],
   "source": [
    "# Un poco de analisis exploratorio\n",
    "columnas = dataset.columns\n",
    "print(columnas)\n",
    "\n",
    "dataset.describe()\n"
   ]
  },
  {
   "cell_type": "code",
   "execution_count": 5,
   "id": "972645dc",
   "metadata": {
    "scrolled": true
   },
   "outputs": [
    {
     "data": {
      "image/png": "[encoded data removed]",
      "text/plain": [
       "<Figure size 400x400 with 1 Axes>"
      ]
     },
     "metadata": {},
     "output_type": "display_data"
    }
   ],
   "source": [
    "bar= dataset.groupby(['target'])['target'].count().reset_index(name=\"n\")\n",
    "bar= pd.DataFrame(bar)\n",
    "\n",
    "fig = plt.figure(figsize =(4,4))\n",
    "plt.bar(bar['target'],bar['n'])\n",
    "plt.xlabel(\"Target\")\n",
    "plt.ylabel(\"Cantidad\")\n",
    "plt.title(\"Distribución de las obs. por target\")\n",
    "plt.show()\n"
   ]
  },
  {
   "cell_type": "markdown",
   "id": "365f1b71",
   "metadata": {},
   "source": [
    "#### Observaciones"
   ]
  },
  {
   "cell_type": "markdown",
   "id": "e6e47c29",
   "metadata": {},
   "source": [
    " - el archivo de datos esta compuesto por variables numéricas lo cuál no implica aplicar una transformación one hot encode a ninguna de las variables.\n",
    " - Los predictores son 14 y una variable target.\n",
    " - La variable target toma 3 valores, 0, 1 y 2 y la mayoría de las observaciones corresponden a la categoría 1. "
   ]
  },
  {
   "cell_type": "markdown",
   "id": "f3ae767c",
   "metadata": {},
   "source": [
    "## Preprocesamiento"
   ]
  },
  {
   "cell_type": "code",
   "execution_count": 6,
   "id": "9056c1f7",
   "metadata": {
    "scrolled": false
   },
   "outputs": [
    {
     "name": "stdout",
     "output_type": "stream",
     "text": [
      "------------------------------------\n",
      "Comprobaciones de la estandarizacion\n",
      "------------------------------------\n",
      "[-8.38280756e-16 -1.19754394e-16 -8.37033314e-16 -3.99181312e-17\n",
      " -3.99181312e-17  0.00000000e+00 -3.99181312e-16  3.59263181e-16\n",
      " -1.19754394e-16  2.49488320e-17  1.99590656e-16  3.19345050e-16\n",
      " -1.59672525e-16]\n",
      "[1. 1. 1. 1. 1. 1. 1. 1. 1. 1. 1. 1. 1.]\n"
     ]
    }
   ],
   "source": [
    "#Realizamos escalado y normalizacion de todos los predictores\n",
    "\n",
    "from sklearn.preprocessing import MinMaxScaler\n",
    "from sklearn.preprocessing import Normalizer\n",
    "from sklearn.preprocessing import StandardScaler\n",
    "\n",
    "#Selecciono solo los predictores\n",
    "\n",
    "x = dataset.drop('target', axis=1)\n",
    "\n",
    "np.random.seed(123)\n",
    "\n",
    "#Escalado\n",
    "\n",
    "escala=MinMaxScaler()\n",
    "\n",
    "escala.fit(x)\n",
    "\n",
    "x_escalada = escala.transform(x)\n",
    "\n",
    "#print(x_escalada)\n",
    "\n",
    "#Normalizado\n",
    "\n",
    "normalize = Normalizer()\n",
    "\n",
    "normalize.fit(x)\n",
    "\n",
    "x_normalizada = normalize.transform(x)\n",
    "\n",
    "#Estandarizado\n",
    "\n",
    "estandarizado = StandardScaler()\n",
    "\n",
    "estandarizado.fit(x)\n",
    "\n",
    "x_estandarizada = estandarizado.transform(x)\n",
    "\n",
    "\n",
    "#Corroboramos el estandarizado\n",
    "\n",
    "print(\"------------------------------------\")\n",
    "print(\"Comprobaciones de la estandarizacion\")\n",
    "print(\"------------------------------------\")\n",
    "print(x_estandarizada.mean(axis=0)) #No es 0, pero es muy cercano a 0\n",
    "print(x_estandarizada.std(axis=0)) #El desvio es 1 para todos los predictores.\n",
    "\n"
   ]
  },
  {
   "cell_type": "markdown",
   "id": "3e165ca1",
   "metadata": {},
   "source": [
    "#### Observaciones"
   ]
  },
  {
   "cell_type": "markdown",
   "id": "5f2591d0",
   "metadata": {},
   "source": [
    " - Con la función StandarScale() hacemos que los predictores se estandaricen, lo que implica que todos pasan a tener media 0 y desviación estándar 1. En el ejercicio la media no es 0, pero es muy cercana y por eso se acepta que esta correcto el estandarizado.\n",
    " - Con esta estrategia evitamos que por la unidad de medida del predictor, alguno tenga más peso que el resto."
   ]
  },
  {
   "cell_type": "markdown",
   "id": "2b70d8e0",
   "metadata": {},
   "source": [
    "### Division del dataset en train y test"
   ]
  },
  {
   "cell_type": "code",
   "execution_count": 7,
   "id": "713eb53b",
   "metadata": {},
   "outputs": [],
   "source": [
    "# Comenzamos con los datos sin procesar\n",
    "from sklearn.model_selection import train_test_split\n",
    "\n",
    "\n",
    "X_train,X_test,y_train, y_test = train_test_split(\n",
    "dataset.drop('target', axis=1),dataset['target'], random_state=123, test_size= 0.2)\n"
   ]
  },
  {
   "cell_type": "code",
   "execution_count": 8,
   "id": "12a1578e",
   "metadata": {},
   "outputs": [],
   "source": [
    "#Continuamos con los datos preprocesados\n",
    "\n",
    "from sklearn.model_selection import train_test_split\n",
    "\n",
    "#Guardamos en el objeto y la variable target\n",
    "\n",
    "y = dataset['target'].astype(int)\n",
    "\n",
    "X_train_s,X_test_s,y_train_s, y_test_s = train_test_split(\n",
    "x_estandarizada,y, random_state=123, test_size= 0.2)\n",
    "\n"
   ]
  },
  {
   "cell_type": "markdown",
   "id": "ad18c2f1",
   "metadata": {},
   "source": [
    "## Entrenamos un modelo Knn"
   ]
  },
  {
   "cell_type": "code",
   "execution_count": 9,
   "id": "0521a49d",
   "metadata": {
    "scrolled": true
   },
   "outputs": [
    {
     "name": "stdout",
     "output_type": "stream",
     "text": [
      "Accurracy\n",
      "--------------------------------------------\n",
      "El accuracy obtenido sin escalar es: 0.222\n",
      "El accuracy obtenido preprocesado es: 0.972\n",
      "--------------------------------------------\n",
      "ROC_AUC\n",
      "--------------------------------------------\n",
      "El roc_auc obtenido sin escalar es: 0.5\n",
      "El roc_auc obtenido preprocesado es: 0.999\n",
      "--------------------------------------------\n"
     ]
    },
    {
     "name": "stderr",
     "output_type": "stream",
     "text": [
      "C:\\ProgramData\\Anaconda3\\lib\\site-packages\\sklearn\\base.py:443: UserWarning: X has feature names, but KNeighborsClassifier was fitted without feature names\n",
      "  warnings.warn(\n",
      "C:\\ProgramData\\Anaconda3\\lib\\site-packages\\sklearn\\neighbors\\_classification.py:228: FutureWarning: Unlike other reduction functions (e.g. `skew`, `kurtosis`), the default behavior of `mode` typically preserves the axis it acts along. In SciPy 1.11.0, this behavior will change: the default value of `keepdims` will become False, the `axis` over which the statistic is taken will be eliminated, and the value None will no longer be accepted. Set `keepdims` to True or False to avoid this warning.\n",
      "  mode, _ = stats.mode(_y[neigh_ind, k], axis=1)\n",
      "C:\\ProgramData\\Anaconda3\\lib\\site-packages\\sklearn\\neighbors\\_classification.py:228: FutureWarning: Unlike other reduction functions (e.g. `skew`, `kurtosis`), the default behavior of `mode` typically preserves the axis it acts along. In SciPy 1.11.0, this behavior will change: the default value of `keepdims` will become False, the `axis` over which the statistic is taken will be eliminated, and the value None will no longer be accepted. Set `keepdims` to True or False to avoid this warning.\n",
      "  mode, _ = stats.mode(_y[neigh_ind, k], axis=1)\n",
      "C:\\ProgramData\\Anaconda3\\lib\\site-packages\\sklearn\\base.py:443: UserWarning: X has feature names, but KNeighborsClassifier was fitted without feature names\n",
      "  warnings.warn(\n",
      "C:\\ProgramData\\Anaconda3\\lib\\site-packages\\sklearn\\neighbors\\_classification.py:228: FutureWarning: Unlike other reduction functions (e.g. `skew`, `kurtosis`), the default behavior of `mode` typically preserves the axis it acts along. In SciPy 1.11.0, this behavior will change: the default value of `keepdims` will become False, the `axis` over which the statistic is taken will be eliminated, and the value None will no longer be accepted. Set `keepdims` to True or False to avoid this warning.\n",
      "  mode, _ = stats.mode(_y[neigh_ind, k], axis=1)\n",
      "C:\\ProgramData\\Anaconda3\\lib\\site-packages\\sklearn\\neighbors\\_classification.py:228: FutureWarning: Unlike other reduction functions (e.g. `skew`, `kurtosis`), the default behavior of `mode` typically preserves the axis it acts along. In SciPy 1.11.0, this behavior will change: the default value of `keepdims` will become False, the `axis` over which the statistic is taken will be eliminated, and the value None will no longer be accepted. Set `keepdims` to True or False to avoid this warning.\n",
      "  mode, _ = stats.mode(_y[neigh_ind, k], axis=1)\n",
      "C:\\ProgramData\\Anaconda3\\lib\\site-packages\\sklearn\\base.py:443: UserWarning: X has feature names, but KNeighborsClassifier was fitted without feature names\n",
      "  warnings.warn(\n"
     ]
    }
   ],
   "source": [
    "from sklearn.neighbors import KNeighborsClassifier\n",
    "from sklearn.metrics import roc_auc_score\n",
    "\n",
    "#Instanciamos el modelo\n",
    "\n",
    "knn = KNeighborsClassifier(3)\n",
    "\n",
    "#Entrenamos el modelo\n",
    "\n",
    "original = knn.fit(X_train,y_train)\n",
    "preprocesado = knn.fit(X_train_s,y_train_s)\n",
    "\n",
    "#Hacemos predicciones\n",
    "\n",
    "y_predicha_original = original.predict(X_test)\n",
    "\n",
    "y_predicha_preprocesado = preprocesado.predict(X_test_s)\n",
    "\n",
    "#Obtenemos algunas métricas de error\n",
    "\n",
    "print(\"Accurracy\")\n",
    "print(\"--------------------------------------------\")\n",
    "print(\"El accuracy obtenido sin escalar es:\", round(knn.score(X_test, y_test),3))\n",
    "print(\"El accuracy obtenido preprocesado es:\", round(knn.score(X_test_s, y_test_s),3))\n",
    "print(\"--------------------------------------------\")\n",
    "\n",
    "#Obtenemos el roc_auc\n",
    "\n",
    "print(\"ROC_AUC\")\n",
    "print(\"--------------------------------------------\")\n",
    "print(\"El roc_auc obtenido sin escalar es:\", round(roc_auc_score(y_test,original.predict_proba(X_test),multi_class= 'ovo'),3))\n",
    "print(\"El roc_auc obtenido preprocesado es:\", round(roc_auc_score(y_test,preprocesado.predict_proba(X_test_s),multi_class= 'ovo'),3))\n",
    "print(\"--------------------------------------------\")\n"
   ]
  },
  {
   "cell_type": "markdown",
   "id": "bc89d509",
   "metadata": {},
   "source": [
    "#### Observaciones"
   ]
  },
  {
   "cell_type": "markdown",
   "id": "2f9c449f",
   "metadata": {},
   "source": [
    " - Las dos métricas elegidas para evaluar el __modelo KNN__, muestran una __mejor performance__ cuando el modelo utiliza los __datos estandarizados__, llegando a un accuracy de __0.97__ y el roc_auc de __0.99__, vs los 0.22 y 0.5 obtenido con los datos sin estandarizar."
   ]
  },
  {
   "cell_type": "code",
   "execution_count": 10,
   "id": "65588563",
   "metadata": {
    "scrolled": false
   },
   "outputs": [],
   "source": [
    "# Obtenemos la matriz de confusión para ambos dataset (original y preprocesado)\n",
    "\n",
    "from sklearn.metrics import confusion_matrix, ConfusionMatrixDisplay\n",
    "\n",
    "#Matriz de confusion datos originales\n",
    "cm = confusion_matrix(y_test,y_predicha_original)\n",
    "\n",
    "#Matriz de confusión datos preprocesados\n",
    "\n",
    "cm_s = confusion_matrix(y_test,y_predicha_preprocesado)\n"
   ]
  },
  {
   "cell_type": "code",
   "execution_count": 11,
   "id": "d9cfcbbb",
   "metadata": {
    "scrolled": true
   },
   "outputs": [
    {
     "data": {
      "text/plain": [
       "<sklearn.metrics._plot.confusion_matrix.ConfusionMatrixDisplay at 0x1a2f70b78b0>"
      ]
     },
     "execution_count": 11,
     "metadata": {},
     "output_type": "execute_result"
    },
    {
     "data": {
      "image/png": "[encoded data removed]",
      "text/plain": [
       "<Figure size 1500x1000 with 4 Axes>"
      ]
     },
     "metadata": {},
     "output_type": "display_data"
    }
   ],
   "source": [
    "fig, ax = plt.subplots(1,2, figsize=(15,10))\n",
    "ax[0].set_title(\"Original\")\n",
    "ax[1].set_title(\"Preprocesado\")\n",
    "\n",
    "\n",
    "disp = ConfusionMatrixDisplay(confusion_matrix=cm,\n",
    "                              display_labels=knn.classes_)\n",
    "\n",
    "disp.plot(cmap=plt.cm.GnBu,ax=ax[0])\n",
    "\n",
    "disp = ConfusionMatrixDisplay(confusion_matrix=cm_s,\n",
    "                              display_labels=knn.classes_)\n",
    "\n",
    "disp.plot(cmap=plt.cm.GnBu,ax=ax[1])\n"
   ]
  },
  {
   "cell_type": "markdown",
   "id": "c4ef06bd",
   "metadata": {},
   "source": [
    "#### Observaciones"
   ]
  },
  {
   "cell_type": "markdown",
   "id": "477f98b1",
   "metadata": {},
   "source": [
    " - La __matriz de confusión__ muestra de forma más explicita lo que describiamos en el apartado anterior. Cuando el __modelo KNN__ utiliza los datos sin estandarizar (imágen de la izquierda), clasifica las 36 observaciones del dataset de test en 0, cuando __solo 8__ debieron ser clasificadas con este valor. \n",
    " - En cambio, cuando __modelo KNN__ utiliza los datos estandarizados (imágen de la derecha), __clasifica correctamente__ __35 de las 36__ observaciones del __dataset de test__."
   ]
  },
  {
   "cell_type": "markdown",
   "id": "a2e83a1e",
   "metadata": {},
   "source": [
    "## Entrenamos un modelo de DecisionTree"
   ]
  },
  {
   "cell_type": "code",
   "execution_count": 12,
   "id": "bfb22fce",
   "metadata": {
    "scrolled": true
   },
   "outputs": [
    {
     "name": "stdout",
     "output_type": "stream",
     "text": [
      "Accurracy\n",
      "--------------------------------------------\n",
      "El accuracy obtenido sin escalar es: 0.222\n",
      "El accuracy obtenido preprocesado es: 0.972\n",
      "--------------------------------------------\n",
      "ROC_AUC\n",
      "--------------------------------------------\n",
      "El roc_auc obtenido sin escalar es: 0.5\n",
      "El roc_auc obtenido preprocesado es: 0.971\n",
      "--------------------------------------------\n"
     ]
    },
    {
     "name": "stderr",
     "output_type": "stream",
     "text": [
      "C:\\ProgramData\\Anaconda3\\lib\\site-packages\\sklearn\\base.py:443: UserWarning: X has feature names, but DecisionTreeClassifier was fitted without feature names\n",
      "  warnings.warn(\n",
      "C:\\ProgramData\\Anaconda3\\lib\\site-packages\\sklearn\\base.py:443: UserWarning: X has feature names, but DecisionTreeClassifier was fitted without feature names\n",
      "  warnings.warn(\n",
      "C:\\ProgramData\\Anaconda3\\lib\\site-packages\\sklearn\\base.py:443: UserWarning: X has feature names, but DecisionTreeClassifier was fitted without feature names\n",
      "  warnings.warn(\n"
     ]
    }
   ],
   "source": [
    "#importamos el modelo\n",
    "\n",
    "from sklearn.tree import DecisionTreeClassifier\n",
    "\n",
    "#generamos una semilla aleatoria\n",
    "\n",
    "np.random.seed(123)\n",
    "\n",
    "#Instanciamos el modelo\n",
    "tree = DecisionTreeClassifier(max_depth=3)\n",
    "\n",
    "#Entrenamos el modelo\n",
    "\n",
    "arbol_original = tree.fit(X_train,y_train)\n",
    "arbol_preprocesado = tree.fit(X_train_s,y_train_s)\n",
    "\n",
    "#Hacemos predicciones\n",
    "\n",
    "y_arbol_original = arbol_original.predict(X_test)\n",
    "\n",
    "y_arbol_preprocesado = arbol_preprocesado.predict(X_test_s)\n",
    "\n",
    "#Obtenemos algunas métricas de error\n",
    "\n",
    "print(\"Accurracy\")\n",
    "print(\"--------------------------------------------\")\n",
    "print(\"El accuracy obtenido sin escalar es:\", round(tree.score(X_test, y_test),3))\n",
    "print(\"El accuracy obtenido preprocesado es:\", round(tree.score(X_test_s, y_test_s),3))\n",
    "print(\"--------------------------------------------\")\n",
    "\n",
    "#Obtenemos el roc_auc\n",
    "\n",
    "print(\"ROC_AUC\")\n",
    "print(\"--------------------------------------------\")\n",
    "print(\"El roc_auc obtenido sin escalar es:\", round(roc_auc_score(y_test,arbol_original.predict_proba(X_test),multi_class= 'ovo'),3))\n",
    "print(\"El roc_auc obtenido preprocesado es:\", round(roc_auc_score(y_test_s,arbol_preprocesado.predict_proba(X_test_s),multi_class= 'ovo'),3))\n",
    "print(\"--------------------------------------------\")\n"
   ]
  },
  {
   "cell_type": "markdown",
   "id": "e12246d1",
   "metadata": {},
   "source": [
    "#### Observaciones"
   ]
  },
  {
   "cell_type": "markdown",
   "id": "90d75070",
   "metadata": {},
   "source": [
    " - Al igual que lo observado en el entrenamiento del modelo KNN, aqui podemos observar que tanto el accuracy como el roc_auc muestran mejor performance con los datos preprocesados."
   ]
  },
  {
   "cell_type": "markdown",
   "id": "b7e7a73b",
   "metadata": {},
   "source": [
    "### Optimizamos el hiperparámetro max_depth"
   ]
  },
  {
   "cell_type": "code",
   "execution_count": 13,
   "id": "db873c9a",
   "metadata": {},
   "outputs": [],
   "source": [
    "### Optimizamos el parámetro max_depth, utlizando GridSeacrhCV\n",
    "\n",
    "from sklearn.model_selection import GridSearchCV #grid search\n",
    "\n",
    "#generamos una semilla aleatoria\n",
    "\n",
    "np.random.seed(123)\n",
    "\n",
    "# Hiperoptimizacion del max_depth\n",
    "\n",
    "param_grid = { \n",
    "    'max_depth' : [3,4,5,6,7],\n",
    "    'criterion' :['gini', 'entropy']\n",
    "}\n",
    "\n",
    "#Modelo\n",
    "\n",
    "arbol = DecisionTreeClassifier()\n",
    "\n",
    "model_grid = GridSearchCV(estimator=arbol, param_grid=param_grid, cv= 5, refit= True)\n",
    "\n",
    "#Entrenamos el modelo con datos preprocesados\n",
    "\n",
    "model_grid_fit = model_grid.fit(X_train_s, y_train_s)\n",
    "\n"
   ]
  },
  {
   "cell_type": "code",
   "execution_count": 14,
   "id": "78beac15",
   "metadata": {
    "scrolled": true
   },
   "outputs": [
    {
     "name": "stdout",
     "output_type": "stream",
     "text": [
      "Mejor estimador modelo con datos preprocesados\n",
      "--------------------------------------------\n",
      "DecisionTreeClassifier(criterion='entropy', max_depth=6)\n",
      "--------------------------------------------\n"
     ]
    }
   ],
   "source": [
    "#Buscamos el mejor estimador\n",
    "\n",
    "print(\"Mejor estimador modelo con datos preprocesados\")\n",
    "print(\"--------------------------------------------\")\n",
    "print(model_grid_fit.best_estimator_)\n",
    "print(\"--------------------------------------------\")"
   ]
  },
  {
   "cell_type": "code",
   "execution_count": 15,
   "id": "31911357",
   "metadata": {
    "scrolled": false
   },
   "outputs": [
    {
     "data": {
      "text/html": [
       "<div>\n",
       "<style scoped>\n",
       "    .dataframe tbody tr th:only-of-type {\n",
       "        vertical-align: middle;\n",
       "    }\n",
       "\n",
       "    .dataframe tbody tr th {\n",
       "        vertical-align: top;\n",
       "    }\n",
       "\n",
       "    .dataframe thead th {\n",
       "        text-align: right;\n",
       "    }\n",
       "</style>\n",
       "<table border=\"1\" class=\"dataframe\">\n",
       "  <thead>\n",
       "    <tr style=\"text-align: right;\">\n",
       "      <th></th>\n",
       "      <th>param_criterion</th>\n",
       "      <th>param_max_depth</th>\n",
       "      <th>mean_test_score</th>\n",
       "      <th>std_test_score</th>\n",
       "    </tr>\n",
       "  </thead>\n",
       "  <tbody>\n",
       "    <tr>\n",
       "      <th>8</th>\n",
       "      <td>entropy</td>\n",
       "      <td>6</td>\n",
       "      <td>0.901478</td>\n",
       "      <td>0.034236</td>\n",
       "    </tr>\n",
       "    <tr>\n",
       "      <th>2</th>\n",
       "      <td>gini</td>\n",
       "      <td>5</td>\n",
       "      <td>0.895567</td>\n",
       "      <td>0.077987</td>\n",
       "    </tr>\n",
       "    <tr>\n",
       "      <th>1</th>\n",
       "      <td>gini</td>\n",
       "      <td>4</td>\n",
       "      <td>0.894581</td>\n",
       "      <td>0.049852</td>\n",
       "    </tr>\n",
       "    <tr>\n",
       "      <th>5</th>\n",
       "      <td>entropy</td>\n",
       "      <td>3</td>\n",
       "      <td>0.894581</td>\n",
       "      <td>0.030897</td>\n",
       "    </tr>\n",
       "    <tr>\n",
       "      <th>0</th>\n",
       "      <td>gini</td>\n",
       "      <td>3</td>\n",
       "      <td>0.894335</td>\n",
       "      <td>0.044828</td>\n",
       "    </tr>\n",
       "    <tr>\n",
       "      <th>6</th>\n",
       "      <td>entropy</td>\n",
       "      <td>4</td>\n",
       "      <td>0.894335</td>\n",
       "      <td>0.049153</td>\n",
       "    </tr>\n",
       "    <tr>\n",
       "      <th>9</th>\n",
       "      <td>entropy</td>\n",
       "      <td>7</td>\n",
       "      <td>0.894335</td>\n",
       "      <td>0.031450</td>\n",
       "    </tr>\n",
       "    <tr>\n",
       "      <th>4</th>\n",
       "      <td>gini</td>\n",
       "      <td>7</td>\n",
       "      <td>0.881034</td>\n",
       "      <td>0.063064</td>\n",
       "    </tr>\n",
       "    <tr>\n",
       "      <th>7</th>\n",
       "      <td>entropy</td>\n",
       "      <td>5</td>\n",
       "      <td>0.881034</td>\n",
       "      <td>0.063064</td>\n",
       "    </tr>\n",
       "    <tr>\n",
       "      <th>3</th>\n",
       "      <td>gini</td>\n",
       "      <td>6</td>\n",
       "      <td>0.873645</td>\n",
       "      <td>0.034391</td>\n",
       "    </tr>\n",
       "  </tbody>\n",
       "</table>\n",
       "</div>"
      ],
      "text/plain": [
       "  param_criterion param_max_depth  mean_test_score  std_test_score\n",
       "8         entropy               6         0.901478        0.034236\n",
       "2            gini               5         0.895567        0.077987\n",
       "1            gini               4         0.894581        0.049852\n",
       "5         entropy               3         0.894581        0.030897\n",
       "0            gini               3         0.894335        0.044828\n",
       "6         entropy               4         0.894335        0.049153\n",
       "9         entropy               7         0.894335        0.031450\n",
       "4            gini               7         0.881034        0.063064\n",
       "7         entropy               5         0.881034        0.063064\n",
       "3            gini               6         0.873645        0.034391"
      ]
     },
     "execution_count": 15,
     "metadata": {},
     "output_type": "execute_result"
    }
   ],
   "source": [
    "#Vemos los errores\n",
    "\n",
    "resultados = pd.DataFrame(model_grid_fit.cv_results_)\n",
    "resultados.filter(regex = '(param*|mean_t|std_t)') \\\n",
    "    .drop(columns = 'params') \\\n",
    "    .sort_values('mean_test_score', ascending = False)\n",
    "\n"
   ]
  },
  {
   "cell_type": "code",
   "execution_count": 16,
   "id": "d33e0759",
   "metadata": {
    "scrolled": true
   },
   "outputs": [
    {
     "name": "stdout",
     "output_type": "stream",
     "text": [
      "Accurracy\n",
      "--------------------------------------------\n",
      "El accuracy obtenido con el modelo optimizado es: 0.944\n",
      "--------------------------------------------\n",
      "ROC_AUC\n",
      "--------------------------------------------\n",
      "El roc_auc obtenido con el modelo optimizado es: 0.971\n",
      "--------------------------------------------\n"
     ]
    }
   ],
   "source": [
    "# Ahora vamos a entrenar nuestro mejor modelo con los parámetros optimizados\n",
    "\n",
    "#importamos el modelo\n",
    "\n",
    "from sklearn.tree import DecisionTreeClassifier\n",
    "\n",
    "#generamos una semilla aleatoria\n",
    "\n",
    "np.random.seed(123)\n",
    "\n",
    "#Instanciamos el modelo\n",
    "tree_opt = DecisionTreeClassifier(max_depth=6,criterion='entropy')\n",
    "\n",
    "#Entrenamos el modelo\n",
    "\n",
    "arbol_optimizado = tree_opt.fit(X_train_s,y_train_s)\n",
    "\n",
    "#Hacemos predicciones\n",
    "\n",
    "y_arbol_opt = arbol_optimizado.predict(X_test_s)\n",
    "\n",
    "#Analizamos las metricas de error\n",
    "\n",
    "print(\"Accurracy\")\n",
    "print(\"--------------------------------------------\")\n",
    "print(\"El accuracy obtenido con el modelo optimizado es:\", round(tree_opt.score(X_test_s, y_test_s),3))\n",
    "print(\"--------------------------------------------\")\n",
    "\n",
    "print(\"ROC_AUC\")\n",
    "print(\"--------------------------------------------\")\n",
    "print(\"El roc_auc obtenido con el modelo optimizado es:\", round(roc_auc_score(y_test_s,arbol_optimizado.predict_proba(X_test_s),multi_class= 'ovo'),3))\n",
    "print(\"--------------------------------------------\")\n",
    "\n"
   ]
  },
  {
   "cell_type": "markdown",
   "id": "1ba1819d",
   "metadata": {},
   "source": [
    "#### Observaciones"
   ]
  },
  {
   "cell_type": "markdown",
   "id": "b39be42c",
   "metadata": {},
   "source": [
    " - Se __optimizaron 2 hiperparámetros__ del modelo de DecisionTree, el __max_depth__ y el __criterio de división__ mediante la estrategia __GridSearchCV__.\n",
    " - La tabla _resultados_ muestra los modelos entrenados con distintas combicaciones de los hiperparámetros. Asmismo muestra el promedio del accuracy ordenados de mayor a menor.\n",
    " - De allí podemos saber que el modelo más optimo es el que setea los parámtros __max_depth__ en __6__ y __criterion__ __entropy__ .\n",
    " - En este caso particuar la __optimización de los parámetros__ no implicó una mejora en las métricas de error, incluso se obtuvo un menor accuracy."
   ]
  },
  {
   "cell_type": "markdown",
   "id": "3844a262",
   "metadata": {},
   "source": [
    "### Vemos la importancia de los predictores"
   ]
  },
  {
   "cell_type": "code",
   "execution_count": 17,
   "id": "00638369",
   "metadata": {
    "scrolled": true
   },
   "outputs": [
    {
     "data": {
      "text/html": [
       "<div>\n",
       "<style scoped>\n",
       "    .dataframe tbody tr th:only-of-type {\n",
       "        vertical-align: middle;\n",
       "    }\n",
       "\n",
       "    .dataframe tbody tr th {\n",
       "        vertical-align: top;\n",
       "    }\n",
       "\n",
       "    .dataframe thead th {\n",
       "        text-align: right;\n",
       "    }\n",
       "</style>\n",
       "<table border=\"1\" class=\"dataframe\">\n",
       "  <thead>\n",
       "    <tr style=\"text-align: right;\">\n",
       "      <th></th>\n",
       "      <th>predictor</th>\n",
       "      <th>importancia</th>\n",
       "    </tr>\n",
       "  </thead>\n",
       "  <tbody>\n",
       "    <tr>\n",
       "      <th>12</th>\n",
       "      <td>proline</td>\n",
       "      <td>0.465469</td>\n",
       "    </tr>\n",
       "    <tr>\n",
       "      <th>11</th>\n",
       "      <td>od280/od315_of_diluted_wines</td>\n",
       "      <td>0.303665</td>\n",
       "    </tr>\n",
       "    <tr>\n",
       "      <th>6</th>\n",
       "      <td>flavanoids</td>\n",
       "      <td>0.118134</td>\n",
       "    </tr>\n",
       "    <tr>\n",
       "      <th>10</th>\n",
       "      <td>hue</td>\n",
       "      <td>0.081056</td>\n",
       "    </tr>\n",
       "    <tr>\n",
       "      <th>9</th>\n",
       "      <td>color_intensity</td>\n",
       "      <td>0.031675</td>\n",
       "    </tr>\n",
       "    <tr>\n",
       "      <th>0</th>\n",
       "      <td>alcohol</td>\n",
       "      <td>0.000000</td>\n",
       "    </tr>\n",
       "    <tr>\n",
       "      <th>1</th>\n",
       "      <td>malic_acid</td>\n",
       "      <td>0.000000</td>\n",
       "    </tr>\n",
       "    <tr>\n",
       "      <th>2</th>\n",
       "      <td>ash</td>\n",
       "      <td>0.000000</td>\n",
       "    </tr>\n",
       "    <tr>\n",
       "      <th>3</th>\n",
       "      <td>alcalinity_of_ash</td>\n",
       "      <td>0.000000</td>\n",
       "    </tr>\n",
       "    <tr>\n",
       "      <th>4</th>\n",
       "      <td>magnesium</td>\n",
       "      <td>0.000000</td>\n",
       "    </tr>\n",
       "    <tr>\n",
       "      <th>5</th>\n",
       "      <td>total_phenols</td>\n",
       "      <td>0.000000</td>\n",
       "    </tr>\n",
       "    <tr>\n",
       "      <th>7</th>\n",
       "      <td>nonflavanoid_phenols</td>\n",
       "      <td>0.000000</td>\n",
       "    </tr>\n",
       "    <tr>\n",
       "      <th>8</th>\n",
       "      <td>proanthocyanins</td>\n",
       "      <td>0.000000</td>\n",
       "    </tr>\n",
       "  </tbody>\n",
       "</table>\n",
       "</div>"
      ],
      "text/plain": [
       "                       predictor  importancia\n",
       "12                       proline     0.465469\n",
       "11  od280/od315_of_diluted_wines     0.303665\n",
       "6                     flavanoids     0.118134\n",
       "10                           hue     0.081056\n",
       "9                color_intensity     0.031675\n",
       "0                        alcohol     0.000000\n",
       "1                     malic_acid     0.000000\n",
       "2                            ash     0.000000\n",
       "3              alcalinity_of_ash     0.000000\n",
       "4                      magnesium     0.000000\n",
       "5                  total_phenols     0.000000\n",
       "7           nonflavanoid_phenols     0.000000\n",
       "8                proanthocyanins     0.000000"
      ]
     },
     "execution_count": 17,
     "metadata": {},
     "output_type": "execute_result"
    }
   ],
   "source": [
    "#Vemos la importancia de los predictores\n",
    "\n",
    "importancia_predictores = pd.DataFrame(\n",
    "                            {'predictor': x.columns,\n",
    "                             'importancia':tree.feature_importances_}\n",
    "                            )\n",
    "importancia_predictores.sort_values('importancia', ascending=False)"
   ]
  },
  {
   "cell_type": "markdown",
   "id": "b2bcee0f",
   "metadata": {},
   "source": [
    "#### Observaciones"
   ]
  },
  {
   "cell_type": "markdown",
   "id": "a6a8a2bc",
   "metadata": {},
   "source": [
    " - Aquí podemos observar que los __feature__ _proline_ y _od280/od315_of_diluted_wines_ son los que mayor importancia tuvieron en el modelo."
   ]
  },
  {
   "cell_type": "markdown",
   "id": "593ba28e",
   "metadata": {},
   "source": [
    "## Aplicamos un modelo de reducción de dimensionalidad"
   ]
  },
  {
   "cell_type": "markdown",
   "id": "d8f2d8bc",
   "metadata": {},
   "source": [
    "### Utilizamos el Análisis de la componente principal"
   ]
  },
  {
   "cell_type": "code",
   "execution_count": 18,
   "id": "7ccafa1e",
   "metadata": {
    "scrolled": false
   },
   "outputs": [
    {
     "name": "stdout",
     "output_type": "stream",
     "text": [
      "(178, 13)\n",
      "(178, 2)\n"
     ]
    },
    {
     "data": {
      "text/html": [
       "<div>\n",
       "<style scoped>\n",
       "    .dataframe tbody tr th:only-of-type {\n",
       "        vertical-align: middle;\n",
       "    }\n",
       "\n",
       "    .dataframe tbody tr th {\n",
       "        vertical-align: top;\n",
       "    }\n",
       "\n",
       "    .dataframe thead th {\n",
       "        text-align: right;\n",
       "    }\n",
       "</style>\n",
       "<table border=\"1\" class=\"dataframe\">\n",
       "  <thead>\n",
       "    <tr style=\"text-align: right;\">\n",
       "      <th></th>\n",
       "      <th>PC-1</th>\n",
       "      <th>PC-2</th>\n",
       "    </tr>\n",
       "  </thead>\n",
       "  <tbody>\n",
       "    <tr>\n",
       "      <th>flavanoids</th>\n",
       "      <td>0.422934</td>\n",
       "      <td>0.003360</td>\n",
       "    </tr>\n",
       "    <tr>\n",
       "      <th>total_phenols</th>\n",
       "      <td>0.394661</td>\n",
       "      <td>-0.065040</td>\n",
       "    </tr>\n",
       "    <tr>\n",
       "      <th>od280/od315_of_diluted_wines</th>\n",
       "      <td>0.376167</td>\n",
       "      <td>0.164496</td>\n",
       "    </tr>\n",
       "    <tr>\n",
       "      <th>proanthocyanins</th>\n",
       "      <td>0.313429</td>\n",
       "      <td>-0.039302</td>\n",
       "    </tr>\n",
       "    <tr>\n",
       "      <th>hue</th>\n",
       "      <td>0.296715</td>\n",
       "      <td>0.279235</td>\n",
       "    </tr>\n",
       "    <tr>\n",
       "      <th>proline</th>\n",
       "      <td>0.286752</td>\n",
       "      <td>-0.364903</td>\n",
       "    </tr>\n",
       "    <tr>\n",
       "      <th>alcohol</th>\n",
       "      <td>0.144329</td>\n",
       "      <td>-0.483652</td>\n",
       "    </tr>\n",
       "    <tr>\n",
       "      <th>magnesium</th>\n",
       "      <td>0.141992</td>\n",
       "      <td>-0.299634</td>\n",
       "    </tr>\n",
       "    <tr>\n",
       "      <th>ash</th>\n",
       "      <td>-0.002051</td>\n",
       "      <td>-0.316069</td>\n",
       "    </tr>\n",
       "    <tr>\n",
       "      <th>color_intensity</th>\n",
       "      <td>-0.088617</td>\n",
       "      <td>-0.529996</td>\n",
       "    </tr>\n",
       "    <tr>\n",
       "      <th>alcalinity_of_ash</th>\n",
       "      <td>-0.239320</td>\n",
       "      <td>0.010591</td>\n",
       "    </tr>\n",
       "    <tr>\n",
       "      <th>malic_acid</th>\n",
       "      <td>-0.245188</td>\n",
       "      <td>-0.224931</td>\n",
       "    </tr>\n",
       "    <tr>\n",
       "      <th>nonflavanoid_phenols</th>\n",
       "      <td>-0.298533</td>\n",
       "      <td>-0.028779</td>\n",
       "    </tr>\n",
       "  </tbody>\n",
       "</table>\n",
       "</div>"
      ],
      "text/plain": [
       "                                  PC-1      PC-2\n",
       "flavanoids                    0.422934  0.003360\n",
       "total_phenols                 0.394661 -0.065040\n",
       "od280/od315_of_diluted_wines  0.376167  0.164496\n",
       "proanthocyanins               0.313429 -0.039302\n",
       "hue                           0.296715  0.279235\n",
       "proline                       0.286752 -0.364903\n",
       "alcohol                       0.144329 -0.483652\n",
       "magnesium                     0.141992 -0.299634\n",
       "ash                          -0.002051 -0.316069\n",
       "color_intensity              -0.088617 -0.529996\n",
       "alcalinity_of_ash            -0.239320  0.010591\n",
       "malic_acid                   -0.245188 -0.224931\n",
       "nonflavanoid_phenols         -0.298533 -0.028779"
      ]
     },
     "execution_count": 18,
     "metadata": {},
     "output_type": "execute_result"
    },
    {
     "data": {
      "image/png": "[encoded data removed]",
      "text/plain": [
       "<Figure size 640x480 with 1 Axes>"
      ]
     },
     "metadata": {},
     "output_type": "display_data"
    }
   ],
   "source": [
    "from sklearn.decomposition import PCA\n",
    "import mglearn\n",
    "\n",
    "#Instanciamos el modelo PC\n",
    "pca=PCA(n_components=2)\n",
    "\n",
    "#Entrenamoe el modelo\n",
    "pca.fit(x_estandarizada)\n",
    "\n",
    "#Transformamos los datos estandarizados\n",
    "transformados = pca.transform(x_estandarizada)\n",
    "print(x.shape)\n",
    "print(transformados.shape)\n",
    "\n",
    "#hacemos un gráfico\n",
    "\n",
    "\n",
    "mglearn.discrete_scatter(transformados[:,0], transformados[:,1], dataset['target'])\n",
    "plt.legend(dataset['target'].unique(), loc='lower right')\n",
    "plt.xlabel('Componente pca 1')\n",
    "plt.ylabel('Componente pca 2')\n",
    "\n",
    "#Creamos un dataframe con los predictores que quedan incluidos en ambos componentes principales\n",
    "\n",
    "predictores = pd.DataFrame(pca.components_.T, columns= ['PC-1','PC-2'], index= x.columns)\n",
    "\n",
    "predictores.sort_values('PC-1',ascending = False)"
   ]
  },
  {
   "cell_type": "code",
   "execution_count": 19,
   "id": "2e4e1420",
   "metadata": {},
   "outputs": [
    {
     "name": "stdout",
     "output_type": "stream",
     "text": [
      "----------------------------------------------------\n",
      "Porcentaje de varianza explicada por cada componente\n",
      "----------------------------------------------------\n",
      "[0.36198848 0.1920749 ]\n",
      "--------------------------------------------------------------\n",
      "Porcentaje de varianza acumulada explicada por cada componente\n",
      "--------------------------------------------------------------\n",
      "[0.36198848 0.55406338]\n"
     ]
    }
   ],
   "source": [
    "print('----------------------------------------------------')\n",
    "print('Porcentaje de varianza explicada por cada componente')\n",
    "print('----------------------------------------------------')\n",
    "print(pca.explained_variance_ratio_)\n",
    "print('--------------------------------------------------------------')\n",
    "print('Porcentaje de varianza acumulada explicada por cada componente')\n",
    "print('--------------------------------------------------------------')\n",
    "print(pca.explained_variance_ratio_.cumsum())"
   ]
  },
  {
   "cell_type": "markdown",
   "id": "67743255",
   "metadata": {},
   "source": [
    "#### Observaciones"
   ]
  },
  {
   "cell_type": "markdown",
   "id": "80357eac",
   "metadata": {},
   "source": [
    " - En el cuadro anterior podemos observar cuáles __feature__ dentro de los componentes explican la mayor cantidad de varianza.\n",
    " - En nuestro análisis podemos ver que las variables _flavonoid_, _total_phenols_ y _od280/od315_of_diluted_wines_ tienen el mayor peso en la PC-1. Mientras que en PC-2 tienen más peso _color_intensity_, _alcohol_ y _proline_. "
   ]
  },
  {
   "cell_type": "markdown",
   "id": "79626e17",
   "metadata": {},
   "source": [
    "## Aplicamos el modelo KMeans"
   ]
  },
  {
   "cell_type": "code",
   "execution_count": 29,
   "id": "920f8a63",
   "metadata": {
    "scrolled": true
   },
   "outputs": [
    {
     "name": "stdout",
     "output_type": "stream",
     "text": [
      "-------------------------\n",
      "---Tiempo de ejecución---\n",
      "------- 0.04 --------\n",
      "-------------------------\n",
      "-----------------------------\n",
      "------Indice Rand------------\n",
      "El score obtenido es:  0.895\n",
      "-----------------------------\n"
     ]
    },
    {
     "data": {
      "image/png": "[encoded data removed]",
      "text/plain": [
       "<Figure size 640x480 with 1 Axes>"
      ]
     },
     "metadata": {},
     "output_type": "display_data"
    }
   ],
   "source": [
    "#Importamos la libreria\n",
    "import time\n",
    "from sklearn.cluster import KMeans\n",
    "from sklearn import metrics\n",
    "\n",
    "#plantamos una semilla aleatoria\n",
    "\n",
    "np.random.seed(123)\n",
    "\n",
    "#Instanciamos el modelo\n",
    "\n",
    "model_k_means = KMeans(n_clusters=3, max_iter=2000) \n",
    "\n",
    "#Instanciamos el momento 0\n",
    "t0 = time.time()\n",
    "\n",
    "#Entrenamos el modelo\n",
    "model_k_means.fit(transformados)\n",
    "\n",
    "#Capturamos el tiempo luego de entrenar el modelo menos el momento 0\n",
    "t_batch = time.time() - t0\n",
    "\n",
    "\n",
    "print(\"-------------------------\")\n",
    "print(\"---Tiempo de ejecución---\")\n",
    "print(\"-------\",round(t_batch,2),\"--------\")\n",
    "print(\"-------------------------\")\n",
    "\n",
    "#Generamos las predicciones\n",
    "\n",
    "pred_k_means = model_k_means.predict(transformados)\n",
    "\n",
    "#Obtenemos las métricas de error\n",
    "\n",
    "score=metrics.adjusted_rand_score(dataset['target'], pred_k_means)\n",
    "\n",
    "print(\"-----------------------------\")\n",
    "print(\"------Indice Rand------------\")\n",
    "print(\"El score obtenido es: \",round(score,3))\n",
    "print(\"-----------------------------\")\n",
    "\n",
    "#Graficamos las predicciones\n",
    "\n",
    "\n",
    "plt.scatter(transformados[:, 0], transformados[:, 1], c=pred_k_means)\n",
    "\n",
    "plt.show()"
   ]
  },
  {
   "cell_type": "markdown",
   "id": "7c6dead3",
   "metadata": {},
   "source": [
    "## Aplicamos el modelo KMeans mini-batches "
   ]
  },
  {
   "cell_type": "code",
   "execution_count": 33,
   "id": "b8d39ac2",
   "metadata": {
    "scrolled": true
   },
   "outputs": [
    {
     "name": "stdout",
     "output_type": "stream",
     "text": [
      "-------------------------\n",
      "---Tiempo de ejecución---\n",
      "--------- 0.0 ----------\n",
      "-------------------------\n"
     ]
    },
    {
     "name": "stderr",
     "output_type": "stream",
     "text": [
      "C:\\ProgramData\\Anaconda3\\lib\\site-packages\\sklearn\\cluster\\_kmeans.py:1043: UserWarning: MiniBatchKMeans is known to have a memory leak on Windows with MKL, when there are less chunks than available threads. You can prevent it by setting batch_size >= 2048 or by setting the environment variable OMP_NUM_THREADS=1\n",
      "  warnings.warn(\n"
     ]
    },
    {
     "name": "stdout",
     "output_type": "stream",
     "text": [
      "-----------------------------\n",
      "------Indice Rand------------\n",
      "El score obtenido es:  0.847\n",
      "-----------------------------\n"
     ]
    },
    {
     "data": {
      "image/png": "[encoded data removed]",
      "text/plain": [
       "<Figure size 640x480 with 1 Axes>"
      ]
     },
     "metadata": {},
     "output_type": "display_data"
    }
   ],
   "source": [
    "# importamos el modelo de la libreria cluster\n",
    "\n",
    "from sklearn.cluster import MiniBatchKMeans\n",
    "from sklearn import metrics\n",
    "import time\n",
    "\n",
    "#plantamos una semilla aleatoria\n",
    "\n",
    "np.random.seed(123)\n",
    "\n",
    "\n",
    "#Instanciamos el momento 0\n",
    "t1 = time.time()\n",
    "\n",
    "#Instanciamos el mismo modelo pero Mini batches\n",
    "\n",
    "k_means_mb = MiniBatchKMeans(n_clusters=3, max_iter=2000)\n",
    "\n",
    "#Capturamos el tiempo luego de entrenar el modelo menos el momento 0\n",
    "t_batch_1 = time.time() - t1\n",
    "\n",
    "print(\"-------------------------\")\n",
    "print(\"---Tiempo de ejecución---\")\n",
    "print(\"---------\",round(t_batch_1,2),\"----------\")\n",
    "print(\"-------------------------\")\n",
    "\n",
    "#Entrenamos el modelo tulizando los datos escalados\n",
    "\n",
    "k_means_mb.fit(transformados)\n",
    "\n",
    "#Creamos las predicciones del modelo\n",
    "\n",
    "pred_k_means_mb = k_means_mb.predict(transformados)\n",
    "\n",
    "#Obtenemos las métricas de error\n",
    "\n",
    "score_mb= metrics.adjusted_rand_score(dataset['target'], pred_k_means_mb)\n",
    "\n",
    "print(\"-----------------------------\")\n",
    "print(\"------Indice Rand------------\")\n",
    "print(\"El score obtenido es: \",round(score_mb,3))\n",
    "print(\"-----------------------------\")\n",
    "\n",
    "#Graficamos las predicciones\n",
    "\n",
    "\n",
    "plt.scatter(transformados[:, 0], transformados[:, 1], c=pred_k_means_mb)\n",
    "\n",
    "plt.show()\n",
    "\n"
   ]
  },
  {
   "cell_type": "markdown",
   "id": "89246aa6",
   "metadata": {},
   "source": [
    "#### Observaciones"
   ]
  },
  {
   "cell_type": "markdown",
   "id": "7c78d347",
   "metadata": {},
   "source": [
    " - Podemos observar que el modelo K-Means Mini Batch nos permite agrupar los datos en cluster con una menor precisión que K-means (score 0.847 vs 0.895). Ahora bien, desde el punto de vista del tiempo de ejecución obtenido con la __libreria time__, podemos observar que el modelo K-means tardo 0.4 s y el modelo K-means Mini Batch tarda 0.0 s. \n",
    " - En conclusión, el modelo __K-means Mini Batch__ es más __eficiente__ obteniendo métricas de error solo __levemente mayores__ al __modelo K-means__."
   ]
  }
 ],
 "metadata": {
  "kernelspec": {
   "display_name": "Python 3 (ipykernel)",
   "language": "python",
   "name": "python3"
  },
  "language_info": {
   "codemirror_mode": {
    "name": "ipython",
    "version": 3
   },
   "file_extension": ".py",
   "mimetype": "text/x-python",
   "name": "python",
   "nbconvert_exporter": "python",
   "pygments_lexer": "ipython3",
   "version": "3.9.13"
  }
 },
 "nbformat": 4,
 "nbformat_minor": 5
}
