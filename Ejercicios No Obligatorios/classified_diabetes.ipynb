{
 "cells": [
  {
   "cell_type": "code",
   "execution_count": null,
   "id": "dd95aa57",
   "metadata": {},
   "outputs": [],
   "source": [
    "import numpy as np\n",
    "import pandas as pd\n",
    "import matplotlib.pyplot as plt\n",
    "\n",
    "#Cargo el dataset\n",
    "\n",
    "dataset = pd.read_csv('pima-indians-diabetes.csv', encoding = \"ISO-8859-1\", delimiter=',', header=0,\n",
    "                     names= ['pregnant','glucose','pressure','triceps','insulin','mass',\n",
    "                            'pedigree','age','diabetes'])  \n",
    "\n",
    "dataset\n"
   ]
  },
  {
   "cell_type": "code",
   "execution_count": null,
   "id": "23fa3b0b",
   "metadata": {},
   "outputs": [],
   "source": [
    "#Tomamos las variable edad y glucosa en plasma para clasificar diabetes\n",
    "\n",
    "#Importamos las librerias\n",
    "\n",
    "from sklearn.model_selection import train_test_split\n",
    "from sklearn import linear_model\n",
    "import sklearn.metrics as sm"
   ]
  },
  {
   "cell_type": "code",
   "execution_count": null,
   "id": "f2e0bf1c",
   "metadata": {},
   "outputs": [],
   "source": [
    "#Graficamos las variables independientes\n",
    "\n",
    "legend = dataset['diabetes'].unique()\n",
    "\n",
    "plt.figure(figsize=(8,8))\n",
    "plt.scatter(dataset['glucose'], dataset['age'], c= dataset['diabetes'],label= legend)\n",
    "plt.xlabel('Glucose')\n",
    "plt.ylabel('Age')\n",
    "plt.legend()\n",
    "plt.show()"
   ]
  },
  {
   "cell_type": "code",
   "execution_count": null,
   "id": "ba269539",
   "metadata": {},
   "outputs": [],
   "source": [
    "#Dividimos el dataset en train, test\n",
    "\n",
    "X_train,X_test,y_train, y_test = train_test_split(\n",
    "dataset[['glucose','age']],dataset['diabetes'], random_state=123, test_size= 0.2\n",
    ")\n",
    "\n",
    "print(X_train)\n",
    "print(X_test)\n",
    "print(y_train)\n",
    "print(y_test)"
   ]
  },
  {
   "cell_type": "markdown",
   "id": "73f4d623",
   "metadata": {},
   "source": [
    "## Clasificación Modelo Logistico"
   ]
  },
  {
   "cell_type": "code",
   "execution_count": null,
   "id": "5b6d008a",
   "metadata": {},
   "outputs": [],
   "source": [
    "#Instanciamos el modelo logistico y lo entrenamos\n",
    "\n",
    "clasificador = linear_model.LogisticRegression()\n",
    "\n",
    "#Entrenamos el modelo\n",
    "\n",
    "clasificador.fit(X_train, y_train)"
   ]
  },
  {
   "cell_type": "code",
   "execution_count": null,
   "id": "469a249d",
   "metadata": {},
   "outputs": [],
   "source": [
    "#Predecimos los valores\n",
    "\n",
    "pred = clasificador.predict(X_test)\n"
   ]
  },
  {
   "cell_type": "code",
   "execution_count": null,
   "id": "ff96b8ec",
   "metadata": {},
   "outputs": [],
   "source": [
    "#Graficamos los valores de test y los predichos\n",
    "\n",
    "# Plot the decision boundary. For that, we will assign a color to each\n",
    "# point in the mesh [x_min, x_max]x[y_min, y_max].\n",
    "\n",
    "X = np.array(X_test)\n",
    "\n",
    "\n",
    "x_min, x_max = X[:, 0].min() - 0.5,  X[:, 0].max() + 0.5\n",
    "y_min, y_max =  X[:, 1].min() - 0.5,  X[:, 1].max() + 0.5\n",
    "\n",
    "h = 0.1  # step size in the mesh\n",
    "xx, yy = np.meshgrid(np.arange(x_min, x_max, h), np.arange(y_min, y_max, h))\n",
    "Z = clasificador.predict(np.c_[xx.ravel(), yy.ravel()])\n",
    "\n",
    "# # Put the result into a color plot\n",
    "Z = Z.reshape(xx.shape)\n",
    "plt.figure(figsize=(8,8))\n",
    "plt.figure()\n",
    "plt.pcolormesh(xx, yy, Z, cmap = \"PuRd\", shading ='auto')\n",
    "\n",
    "# # Plot also the training points\n",
    "plt.scatter(X_train['glucose'],X_train['age'], c=y_train, edgecolors=\"k\", cmap=\"PuRd\",label='Training Points')\n",
    "# Plot also the testing points\n",
    "plt.scatter(X_test['glucose'],X_test['age'], c=pred, edgecolors=\"k\", cmap=\"PuRd\",marker=\"^\",label='Test Points')\n",
    "plt.legend(loc=\"upper left\")\n",
    "plt.xlabel(\"Glucose\")\n",
    "plt.ylabel(\"Age\")\n",
    "plt.show()\n"
   ]
  },
  {
   "cell_type": "code",
   "execution_count": null,
   "id": "cb1fdc6c",
   "metadata": {},
   "outputs": [],
   "source": [
    "#Obtenemos las métricas de error del modelo\n",
    "#Traemos accuracy y roc scored\n",
    "from sklearn.metrics import roc_auc_score\n",
    "\n",
    "accuracy = clasificador.score(X_test,y_test)\n",
    "roc= roc_auc_score(y_test, pred)\n",
    "\n",
    "print(\"El accuracy del modelo es =\", round(accuracy, 2)) \n",
    "print(\"El área bajo la curva =\", round(roc, 2))\n"
   ]
  },
  {
   "cell_type": "code",
   "execution_count": null,
   "id": "d8f52277",
   "metadata": {},
   "outputs": [],
   "source": [
    "#Optimizamos el error mediante cross_validation\n",
    "\n",
    "from sklearn.model_selection import KFold\n",
    "\n",
    "X= np.array(X_train)\n",
    "\n",
    "# Instancio el iterador\n",
    "kf = KFold(n_splits=5, random_state=None, shuffle=False)\n",
    "\n",
    "#Armo una lista para guardar las metricas\n",
    "\n",
    "accuracy = []\n",
    "roc = []\n",
    "\n",
    "for i, (train_index, test_index) in enumerate(kf.split(X)):\n",
    "    x_train, x_test = dataset.loc[train_index,['glucose','age']], dataset.loc[test_index,['glucose','age']]\n",
    "    y_train, y_test = dataset.loc[train_index,['diabetes']], dataset.loc[test_index,['diabetes']]\n",
    "    clasificador.fit(x_train, y_train)\n",
    "    accuracy.append(clasificador.score(x_test, y_test))\n",
    "    roc.append(roc_auc_score(y_test,clasificador.predict(x_test)))"
   ]
  },
  {
   "cell_type": "code",
   "execution_count": null,
   "id": "40af6e33",
   "metadata": {},
   "outputs": [],
   "source": [
    "accuracy_mean = sum(accuracy)/len(accuracy)\n",
    "print(\"El accuracy promedio es: \", round(accuracy_mean,2))\n",
    "\n",
    "roc_mean =sum(roc)/len(roc)\n",
    "print(\"El area bajo la curva promedio es: \", round(roc_mean,2))"
   ]
  },
  {
   "cell_type": "markdown",
   "id": "89911970",
   "metadata": {},
   "source": [
    "## Modelo Decision Tree"
   ]
  },
  {
   "cell_type": "code",
   "execution_count": null,
   "id": "5f05c00b",
   "metadata": {},
   "outputs": [],
   "source": [
    "from sklearn.tree import DecisionTreeClassifier\n",
    "\n",
    "#Instanciamos el modelo\n",
    "tree = DecisionTreeClassifier(max_depth=3)\n",
    "\n",
    "#Dividimos el dataset\n",
    "\n",
    "X_train,X_test,y_train, y_test = train_test_split(\n",
    "dataset[['glucose','age']],dataset['diabetes'], random_state=123, test_size= 0.2)\n",
    "\n",
    "#Entrenamos el árbol de decision\n",
    "\n",
    "tree.fit(X_train,y_train)\n",
    "\n",
    "#Generamos las predicciones\n",
    "\n",
    "tree.predict(X_test)"
   ]
  },
  {
   "cell_type": "code",
   "execution_count": null,
   "id": "541b5d29",
   "metadata": {},
   "outputs": [],
   "source": [
    "#Obtenemos las metricas de error por Kfolds\n",
    "\n",
    "\n",
    "X= np.array(X_train)\n",
    "\n",
    "# Instancio el iterador\n",
    "kf = KFold(n_splits=5, random_state=None, shuffle=False)\n",
    "\n",
    "#Armo una lista para guardar las metricas\n",
    "\n",
    "accuracy = []\n",
    "roc = []\n",
    "\n",
    "for i, (train_index, test_index) in enumerate(kf.split(X)):\n",
    "    x_train, x_test = dataset.loc[train_index,['glucose','age']], dataset.loc[test_index,['glucose','age']]\n",
    "    y_train, y_test = dataset.loc[train_index,['diabetes']], dataset.loc[test_index,['diabetes']]\n",
    "    tree.fit(x_train, y_train)\n",
    "    accuracy.append(clasificador.score(x_test, y_test))\n",
    "    roc.append(roc_auc_score(y_test,tree.predict(x_test)))\n"
   ]
  },
  {
   "cell_type": "code",
   "execution_count": null,
   "id": "cfd0aa08",
   "metadata": {},
   "outputs": [],
   "source": [
    "accuracy_mean = sum(accuracy)/len(accuracy)\n",
    "print(\"El accuracy promedio es: \", round(accuracy_mean,2))\n",
    "\n",
    "roc_mean =sum(roc)/len(roc)\n",
    "print(\"El area bajo la curva promedio es: \", round(roc_mean,2))"
   ]
  },
  {
   "cell_type": "code",
   "execution_count": null,
   "id": "a7477d4d",
   "metadata": {},
   "outputs": [],
   "source": [
    "# Hiperoptimizacion del max_depth\n",
    "\n",
    "param_grid = { \n",
    "    'max_depth' : [4,5,6,7,8],\n",
    "    'criterion' :['gini', 'entropy']\n",
    "}"
   ]
  },
  {
   "cell_type": "code",
   "execution_count": null,
   "id": "ed9b08c7",
   "metadata": {},
   "outputs": [],
   "source": [
    "from sklearn.model_selection import GridSearchCV #grid search\n",
    "\n",
    "#Modelo\n",
    "\n",
    "arbol = DecisionTreeClassifier()\n",
    "\n",
    "CV_dt = GridSearchCV(estimator=arbol, param_grid=param_grid, cv= 5)\n",
    "\n",
    "\n",
    "CV_dt.fit(x_train, y_train)"
   ]
  },
  {
   "cell_type": "code",
   "execution_count": null,
   "id": "60d5e3c7",
   "metadata": {},
   "outputs": [],
   "source": [
    "#Buscamos el mejor estimador\n",
    "\n",
    "CV_dt.best_estimator_"
   ]
  },
  {
   "cell_type": "code",
   "execution_count": null,
   "id": "b762af53",
   "metadata": {},
   "outputs": [],
   "source": [
    "#Vemos los errores\n",
    "\n",
    "resultados = pd.DataFrame(CV_dt.cv_results_)\n",
    "resultados.filter(regex = '(param*|mean_t|std_t)') \\\n",
    "    .drop(columns = 'params') \\\n",
    "    .sort_values('mean_test_score', ascending = False)"
   ]
  },
  {
   "cell_type": "code",
   "execution_count": null,
   "id": "e9ae2e89",
   "metadata": {},
   "outputs": [],
   "source": [
    "#Hacemos la estimacion con los parametros que dieron mejor performance\n",
    "\n",
    "model = DecisionTreeClassifier(criterion='entropy', max_depth=4)\n",
    "\n",
    "model.fit(x_train,y_train)\n",
    "\n",
    "model.predict(x_test)\n"
   ]
  },
  {
   "cell_type": "code",
   "execution_count": null,
   "id": "865740a9",
   "metadata": {},
   "outputs": [],
   "source": [
    "#Obtenemos las metricas de performance una vez optimizado\n",
    "\n",
    "accuracy_opt = (model.score(x_test, y_test))\n",
    "roc_opt = roc_auc_score(y_test,model.predict(x_test))\n",
    "\n",
    "print(\"Una vez optimizado el modelo tiene un accuracy de:\",round(accuracy_opt,2))\n",
    "print(\"Una vez optimizado el modelo el area bajo la curva es:\",round(roc_opt,2))"
   ]
  }
 ],
 "metadata": {
  "kernelspec": {
   "display_name": "Python 3 (ipykernel)",
   "language": "python",
   "name": "python3"
  },
  "language_info": {
   "codemirror_mode": {
    "name": "ipython",
    "version": 3
   },
   "file_extension": ".py",
   "mimetype": "text/x-python",
   "name": "python",
   "nbconvert_exporter": "python",
   "pygments_lexer": "ipython3",
   "version": "3.9.13"
  }
 },
 "nbformat": 4,
 "nbformat_minor": 5
}
