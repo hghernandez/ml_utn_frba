{
 "cells": [
  {
   "cell_type": "markdown",
   "metadata": {},
   "source": [
    "## Objetivo: comparar si usando split de scikit learning obtengo lo mismo que el profe"
   ]
  },
  {
   "cell_type": "code",
   "execution_count": 1,
   "metadata": {},
   "outputs": [],
   "source": [
    "#Importamos las librerias\n",
    "\n",
    "import numpy as np\n",
    "import pandas as pd\n",
    "import matplotlib.pyplot as plt\n",
    "from sklearn.model_selection import train_test_split"
   ]
  },
  {
   "cell_type": "code",
   "execution_count": 2,
   "metadata": {
    "scrolled": true
   },
   "outputs": [],
   "source": [
    "#Cargamos el dataset\n",
    "\n",
    "dataset = pd.read_csv('datos4.csv', encoding = \"ISO-8859-1\")\n"
   ]
  },
  {
   "cell_type": "code",
   "execution_count": 3,
   "metadata": {
    "scrolled": true
   },
   "outputs": [],
   "source": [
    "#Dividimos el archivo en train y test\n",
    "\n",
    "X_train,X_test,y_train,y_test = train_test_split(\n",
    "dataset.x,dataset.y,test_size=0.20, random_state=123)\n",
    "\n",
    "\n"
   ]
  },
  {
   "cell_type": "code",
   "execution_count": 4,
   "metadata": {},
   "outputs": [
    {
     "name": "stdout",
     "output_type": "stream",
     "text": [
      "[1.81, 2.58, 3.26, 4.27, 5.89, 6.42, 7.62, 8.82, 9.05, 10.66, 11.11, 12.11, 13.95, 14.97, 15.08, 16.06, 17.57, 18.45, 19.7, 20.37]\n",
      "[13.16, 24.56, 37.0, 48.86, 60.63, 72.68, 84.99, 96.54, 108.85, 121.18, 133.0, 144.63, 157.07, 168.92, 180.71, 193.04, 204.39, 217.12, 228.72, 241.29]\n"
     ]
    }
   ],
   "source": [
    "#Replicamos el metodo visto en la clase\n",
    "\n",
    "dat_csv  = pd.read_csv('datos4.csv', encoding = \"ISO-8859-1\")\n",
    "datos_x = dat_csv.x\n",
    "datos_y = dat_csv.y\n",
    "x = []\n",
    "y = []\n",
    "for i in dat_csv.x:\n",
    "    x.append(i)\n",
    "for j in dat_csv.y:\n",
    "    y.append(j)\n",
    "print(x)    \n",
    "print(y)\n",
    "\n",
    "X = np.array(x)\n",
    "Y = np.array(y)"
   ]
  },
  {
   "cell_type": "code",
   "execution_count": 5,
   "metadata": {
    "scrolled": true
   },
   "outputs": [
    {
     "data": {
      "text/plain": [
       "4"
      ]
     },
     "execution_count": 5,
     "metadata": {},
     "output_type": "execute_result"
    }
   ],
   "source": [
    "datos_entrenamiento = int(0.8 * len(X))\n",
    "datos_entrenamiento\n",
    "datos_prueba = len(X) - datos_entrenamiento\n",
    "datos_prueba"
   ]
  },
  {
   "cell_type": "code",
   "execution_count": 6,
   "metadata": {
    "scrolled": true
   },
   "outputs": [
    {
     "name": "stdout",
     "output_type": "stream",
     "text": [
      "16\n",
      "4\n",
      "[[ 1.81]\n",
      " [ 2.58]\n",
      " [ 3.26]\n",
      " [ 4.27]\n",
      " [ 5.89]\n",
      " [ 6.42]\n",
      " [ 7.62]\n",
      " [ 8.82]\n",
      " [ 9.05]\n",
      " [10.66]\n",
      " [11.11]\n",
      " [12.11]\n",
      " [13.95]\n",
      " [14.97]\n",
      " [15.08]\n",
      " [16.06]]\n",
      "[[ 13.16]\n",
      " [ 24.56]\n",
      " [ 37.  ]\n",
      " [ 48.86]\n",
      " [ 60.63]\n",
      " [ 72.68]\n",
      " [ 84.99]\n",
      " [ 96.54]\n",
      " [108.85]\n",
      " [121.18]\n",
      " [133.  ]\n",
      " [144.63]\n",
      " [157.07]\n",
      " [168.92]\n",
      " [180.71]\n",
      " [193.04]]\n"
     ]
    }
   ],
   "source": [
    "X,Y\n",
    "datos_entrenamiento = int(0.8 * len(X))\n",
    "datos_prueba = len(X) - datos_entrenamiento\n",
    "\n",
    "print(datos_entrenamiento)\n",
    "print(datos_prueba)\n",
    "\n",
    "\n",
    "#ENTRENAMIENTO\n",
    "X_entrenamiento = X[:datos_entrenamiento].reshape((datos_entrenamiento,1))\n",
    "print(X_entrenamiento)\n",
    "Y_entrenamiento = Y[:datos_entrenamiento].reshape((datos_entrenamiento,1))\n",
    "print(Y_entrenamiento)\n",
    "#PRUEBA\n",
    "X_prueba = X[datos_entrenamiento:].reshape((datos_prueba,1))\n",
    "Y_prueba = Y[datos_entrenamiento:].reshape((datos_prueba,1))"
   ]
  },
  {
   "cell_type": "markdown",
   "metadata": {},
   "source": [
    "### Si bien ambos dataset tiene la misma longitud, el sistema visto en clase selecciona los datos en el orden que estan en el dataset y sklearn los toma al azar"
   ]
  },
  {
   "cell_type": "code",
   "execution_count": 7,
   "metadata": {},
   "outputs": [
    {
     "ename": "TypeError",
     "evalue": "scatter() missing 2 required positional arguments: 'x' and 'y'",
     "output_type": "error",
     "traceback": [
      "\u001b[1;31m---------------------------------------------------------------------------\u001b[0m",
      "\u001b[1;31mTypeError\u001b[0m                                 Traceback (most recent call last)",
      "\u001b[1;32m~\\AppData\\Local\\Temp\\ipykernel_13288\\3012483563.py\u001b[0m in \u001b[0;36m<module>\u001b[1;34m\u001b[0m\n\u001b[0;32m      2\u001b[0m \u001b[1;33m\u001b[0m\u001b[0m\n\u001b[0;32m      3\u001b[0m \u001b[0mplt\u001b[0m\u001b[1;33m.\u001b[0m\u001b[0mplot\u001b[0m\u001b[1;33m(\u001b[0m\u001b[0mdataset\u001b[0m\u001b[1;33m.\u001b[0m\u001b[0mx\u001b[0m\u001b[1;33m,\u001b[0m\u001b[0mdataset\u001b[0m\u001b[1;33m.\u001b[0m\u001b[0my\u001b[0m\u001b[1;33m)\u001b[0m\u001b[1;33m\u001b[0m\u001b[1;33m\u001b[0m\u001b[0m\n\u001b[1;32m----> 4\u001b[1;33m \u001b[0mplt\u001b[0m\u001b[1;33m.\u001b[0m\u001b[0mscatter\u001b[0m\u001b[1;33m(\u001b[0m\u001b[1;33m)\u001b[0m\u001b[1;33m\u001b[0m\u001b[1;33m\u001b[0m\u001b[0m\n\u001b[0m\u001b[0;32m      5\u001b[0m \u001b[0mplt\u001b[0m\u001b[1;33m.\u001b[0m\u001b[0mshow\u001b[0m\u001b[1;33m(\u001b[0m\u001b[1;33m)\u001b[0m\u001b[1;33m\u001b[0m\u001b[1;33m\u001b[0m\u001b[0m\n",
      "\u001b[1;31mTypeError\u001b[0m: scatter() missing 2 required positional arguments: 'x' and 'y'"
     ]
    },
    {
     "data": {
      "image/png": "[encoded data removed]",
      "text/plain": [
       "<Figure size 640x480 with 1 Axes>"
      ]
     },
     "metadata": {},
     "output_type": "display_data"
    }
   ],
   "source": [
    "#veamos un grafico\n",
    "\n",
    "plt.plot(dataset.x,dataset.y)\n",
    "plt.scatter()\n",
    "plt.show()"
   ]
  },
  {
   "cell_type": "code",
   "execution_count": null,
   "metadata": {},
   "outputs": [],
   "source": [
    "plt.figure()\n",
    "plt.scatter(X,Y)\n",
    "plt.show()"
   ]
  },
  {
   "cell_type": "code",
   "execution_count": 21,
   "metadata": {},
   "outputs": [
    {
     "ename": "NameError",
     "evalue": "name 'x_test' is not defined",
     "output_type": "error",
     "traceback": [
      "\u001b[1;31m---------------------------------------------------------------------------\u001b[0m",
      "\u001b[1;31mNameError\u001b[0m                                 Traceback (most recent call last)",
      "\u001b[1;32m~\\AppData\\Local\\Temp\\ipykernel_13288\\4162476980.py\u001b[0m in \u001b[0;36m<module>\u001b[1;34m\u001b[0m\n\u001b[0;32m     21\u001b[0m \u001b[1;31m#vemos el error\u001b[0m\u001b[1;33m\u001b[0m\u001b[1;33m\u001b[0m\u001b[0m\n\u001b[0;32m     22\u001b[0m \u001b[1;33m\u001b[0m\u001b[0m\n\u001b[1;32m---> 23\u001b[1;33m \u001b[0mx_test_1\u001b[0m \u001b[1;33m=\u001b[0m \u001b[0mx_test\u001b[0m\u001b[1;33m.\u001b[0m\u001b[0mvalues\u001b[0m\u001b[1;33m.\u001b[0m\u001b[0mreshape\u001b[0m\u001b[1;33m(\u001b[0m\u001b[1;33m-\u001b[0m\u001b[1;36m1\u001b[0m\u001b[1;33m,\u001b[0m\u001b[1;36m1\u001b[0m\u001b[1;33m)\u001b[0m\u001b[1;33m\u001b[0m\u001b[1;33m\u001b[0m\u001b[0m\n\u001b[0m\u001b[0;32m     24\u001b[0m \u001b[0mx_test_1\u001b[0m\u001b[1;33m\u001b[0m\u001b[1;33m\u001b[0m\u001b[0m\n\u001b[0;32m     25\u001b[0m \u001b[1;33m\u001b[0m\u001b[0m\n",
      "\u001b[1;31mNameError\u001b[0m: name 'x_test' is not defined"
     ]
    }
   ],
   "source": [
    "#Hacemos una regresion con ambos dataset y veamos si hay diferencias\n",
    "\n",
    "from sklearn import linear_model\n",
    "import sklearn.metrics as sm\n",
    "from sklearn.metrics import mean_squared_error\n",
    "from math import sqrt #Para obtener la raiz cuadrada\n",
    "\n",
    "#Instanciamos el modelo\n",
    "\n",
    "lm = linear_model.LinearRegression()\n",
    "\n",
    "#entrenamos el modelo con el los datos generados por la funcion train_test_split\n",
    "\n",
    "\n",
    "#Escenario 1\n",
    "x = X_train.values.reshape(-1,1)\n",
    "y = y_train.values.reshape(-1,1)\n",
    "\n",
    "esc1 = lm.fit(x,y)\n",
    "\n",
    "#vemos el error\n",
    "\n",
    "X_test_1 = X_test.values.reshape(-1,1)\n",
    "x_test_1\n",
    "\n",
    "predicciones = lm.predict(x_test_1)\n",
    "\n",
    "print(\"Error cuadratico medio =\", round(sm.mean_squared_error(y_test_1, predicciones), 2)) \n",
    "\n",
    "sqrt(mean_squared_error(y_test_1, predicciones, squared=False))\n"
   ]
  },
  {
   "cell_type": "code",
   "execution_count": 19,
   "metadata": {},
   "outputs": [
    {
     "name": "stdout",
     "output_type": "stream",
     "text": [
      "Error cuadratico medio = 6166639.26\n",
      "Error absoluto mediano = 2479.03\n"
     ]
    }
   ],
   "source": [
    "#Escenario 2\n",
    "\n",
    "lm2 = linear_model.LinearRegression()\n",
    "\n",
    "lm2.fit(X_entrenamiento,Y_entrenamiento)\n",
    "\n",
    "Y_predicha = lm2.predict(Y_prueba)\n",
    "\n",
    "print(\"Error cuadratico medio =\", round(sm.mean_squared_error(Y_prueba, Y_predicha), 2)) \n",
    "print(\"Error absoluto mediano =\", round(sm.median_absolute_error(Y_prueba, Y_predicha),2))"
   ]
  }
 ],
 "metadata": {
  "kernelspec": {
   "display_name": "Python 3",
   "language": "python",
   "name": "python3"
  },
  "language_info": {
   "codemirror_mode": {
    "name": "ipython",
    "version": 3
   },
   "file_extension": ".py",
   "mimetype": "text/x-python",
   "name": "python",
   "nbconvert_exporter": "python",
   "pygments_lexer": "ipython3",
   "version": "3.8.5"
  }
 },
 "nbformat": 4,
 "nbformat_minor": 5
}
